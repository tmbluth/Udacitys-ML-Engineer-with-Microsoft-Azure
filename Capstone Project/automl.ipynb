{
  "cells": [
    {
      "cell_type": "markdown",
      "source": [
        "# Part 1: Build a Model Using Automated ML"
      ],
      "metadata": {}
    },
    {
      "cell_type": "code",
      "source": [
        "# Import all needed Python modules\n",
        "import os\n",
        "import zipfile\n",
        "import numpy as np\n",
        "import pandas as pd\n",
        "import seaborn as sns\n",
        "import matplotlib.pyplot as plt\n",
        "from matplotlib import dates\n",
        "import joblib\n",
        "import json\n",
        "\n",
        "import azureml.core\n",
        "from azureml.core.experiment import Experiment\n",
        "from azureml.core import Run\n",
        "from azureml.core.workspace import Workspace\n",
        "from azureml.train.automl import AutoMLConfig\n",
        "from azureml.core.dataset import Dataset\n",
        "from azureml.core.compute import ComputeTarget, AmlCompute\n",
        "from azureml.core.compute_target import ComputeTargetException\n",
        "from azureml.widgets import RunDetails\n",
        "from azureml.pipeline.core import PipelineData, TrainingOutput\n",
        "from azureml.pipeline.steps import AutoMLStep\n",
        "from azureml.pipeline.core import Pipeline\n",
        "\n",
        "# Check core SDK version number\n",
        "print(\"SDK version:\", azureml.core.VERSION)\n",
        "\n",
        "# Check current working directory\n",
        "os.getcwd()"
      ],
      "outputs": [
        {
          "output_type": "stream",
          "name": "stdout",
          "text": [
            "SDK version: 1.32.0\n"
          ]
        },
        {
          "output_type": "execute_result",
          "execution_count": 1,
          "data": {
            "text/plain": "'/mnt/batch/tasks/shared/LS_root/mounts/clusters/general-purpose-node/code/Users/tbluth/Udacitys-ML-Engineer-with-Microsoft-Azure/Capstone-Project'"
          },
          "metadata": {}
        }
      ],
      "execution_count": 1,
      "metadata": {
        "gather": {
          "logged": 1629165115706
        },
        "jupyter": {
          "outputs_hidden": false,
          "source_hidden": false
        },
        "nteract": {
          "transient": {
            "deleting": false
          }
        }
      }
    },
    {
      "cell_type": "markdown",
      "source": [
        "Once all dependencies are loaded in I establish the objects that will be used to run the whole thing, those being:\r\n",
        "  - 1. Workspace\r\n",
        "  - 2. Datastore \r\n",
        "  - 3. Experiment \r\n",
        "  - 4. Compute target"
      ],
      "metadata": {
        "nteract": {
          "transient": {
            "deleting": false
          }
        }
      }
    },
    {
      "cell_type": "code",
      "source": [
        "# Use current workspace \n",
        "ws = Workspace.from_config()\n",
        "\n",
        "# Use default datastore\n",
        "datastore = ws.get_default_datastore()\n",
        "\n",
        "# Choose a name for experiment  \n",
        "experiment_name = 'ethereum-forecasting'\n",
        "experiment=Experiment(ws, experiment_name)\n",
        "\n",
        "# Choose a name for your CPU cluster\n",
        "# If the cluster exists, use it. Otherwise create it\n",
        "amlcompute_cluster_name = 'cpu-cluster'\n",
        "cluster_count = 6\n",
        "try:\n",
        "    compute_target = ComputeTarget(workspace=ws, name=amlcompute_cluster_name)\n",
        "    print('Found existing cluster, use it.')\n",
        "except ComputeTargetException:\n",
        "    compute_config = AmlCompute.provisioning_configuration(\n",
        "        vm_size='STANDARD_D2_V2',# for GPU, use \"STANDARD_NC6\"\n",
        "        vm_priority = 'lowpriority', # optional\n",
        "        min_nodes=0,\n",
        "        max_nodes=cluster_count\n",
        "    )\n",
        "    compute_target = ComputeTarget.create(\n",
        "        ws, \n",
        "        amlcompute_cluster_name, \n",
        "        compute_config\n",
        "    )\n",
        "\n",
        "compute_target.wait_for_completion(\n",
        "    show_output=True, \n",
        "    min_node_count = 0, \n",
        "    timeout_in_minutes = 10\n",
        ")\n",
        "# For a more detailed view of current AmlCompute status, use get_status()."
      ],
      "outputs": [
        {
          "output_type": "stream",
          "name": "stdout",
          "text": [
            "InProgress.....\n",
            "SucceededProvisioning operation finished, operation \"Succeeded\"\n",
            "Succeeded\n",
            "AmlCompute wait for completion finished\n",
            "\n",
            "Minimum number of nodes requested have been provisioned\n"
          ]
        }
      ],
      "execution_count": 2,
      "metadata": {
        "gather": {
          "logged": 1629165143043
        },
        "jupyter": {
          "outputs_hidden": false,
          "source_hidden": false
        },
        "nteract": {
          "transient": {
            "deleting": false
          }
        }
      }
    },
    {
      "cell_type": "markdown",
      "source": [
        "## Dataset\n",
        "\n",
        "### Overview\n",
        "The data sets I'll be working with are from Kaggle and contain time-series price data on popular cryptocurrencies from their Initial Coin Offering (ICO) to July 2021. \n",
        "For this project we will only be using historical info from Bitcoin (BTC) and Ethereum (ETH) to predict the closing price of Ethereum at each day's open.\n",
        "BTC has been known to be the market leader with a huge portion of market capitalization and tends to heavily influence the prices of alternative coins like ETH. \n",
        "If this is true, using daily Bitcoin data should be a good signal for Ethereum's daily closing price. "
      ],
      "metadata": {}
    },
    {
      "cell_type": "markdown",
      "source": [
        "The first time running this code go to the Azure compute instance terminal and type in:\n",
        "\n",
        "> pip install kaggle\n",
        "\n",
        "This module will allow you to download Kaggle data straight into your workspace. However, before you can do this you need to specifiy some environment variables that the kaggle module requires by adding your Kaggle username and API token:\n",
        "\n",
        "> export KAGGLE_USERNAME=xxxx\n",
        "<br>\n",
        "> export KAGGLE_KEY=xxxxxxxxxxxxxx\n",
        "\n",
        "This token can be generated by going to your Kaggle Account page and generating an API token. Once these are in place you can run a variation of the following code that has your info included:\n",
        "\n",
        "> kaggle datasets download -p your/path sudalairajkumar/cryptocurrencypricehistory\n",
        "\n",
        "You don't need to specify a path where the data will be downloaded, but you can by adding the `-p` (path) modifier and specifying the output path. Then specify the Kaggle user and their project to download the data tied to the project. "
      ],
      "metadata": {
        "nteract": {
          "transient": {
            "deleting": false
          }
        }
      }
    },
    {
      "cell_type": "code",
      "source": [
        "# Unzip Kaggle file and only load in the Ethereum data\n",
        "with zipfile.ZipFile('./data/cryptocurrencypricehistory.zip') as myzip:\n",
        "    with myzip.open('coin_Ethereum.csv') as Ethereum:\n",
        "        ETH = pd.read_csv(Ethereum)   \n",
        "    with myzip.open('coin_Bitcoin.csv') as Bitcoin:\n",
        "        BTC = pd.read_csv(Bitcoin)   \n",
        "        \n",
        "ETH.drop(['SNo', 'Name', 'Symbol'], inplace=True, axis=1)\n",
        "BTC.drop(['SNo', 'Name', 'Symbol'], inplace=True, axis=1)\n",
        "\n",
        "print(ETH.head(2))\n",
        "print(BTC.head(2)) "
      ],
      "outputs": [
        {
          "output_type": "stream",
          "name": "stdout",
          "text": [
            "                  Date     High       Low      Open     Close    Volume  \\\n",
            "0  2015-08-08 23:59:59  2.79881  0.714725  2.793760  0.753325  674188.0   \n",
            "1  2015-08-09 23:59:59  0.87981  0.629191  0.706136  0.701897  532170.0   \n",
            "\n",
            "      Marketcap  \n",
            "0  4.548689e+07  \n",
            "1  4.239957e+07  \n",
            "                  Date        High         Low     Open       Close  Volume  \\\n",
            "0  2013-04-29 23:59:59  147.488007  134.000000  134.444  144.539993     0.0   \n",
            "1  2013-04-30 23:59:59  146.929993  134.050003  144.000  139.000000     0.0   \n",
            "\n",
            "      Marketcap  \n",
            "0  1.603769e+09  \n",
            "1  1.542813e+09  \n"
          ]
        }
      ],
      "execution_count": 3,
      "metadata": {
        "gather": {
          "logged": 1629165143256
        },
        "jupyter": {
          "outputs_hidden": false,
          "source_hidden": false
        },
        "nteract": {
          "transient": {
            "deleting": false
          }
        }
      }
    },
    {
      "cell_type": "markdown",
      "source": [
        "Below I choose to remove the \"High\" and \"Low\" prices of the day since I would consider those data leakage. The same goes for volume and market cap. If the prediction is occuring at the open of the day so that we predict the close, then these would not be available at time of inference. What we *can* do is use the previous day's data for columns only available at the end of the day, so those will be added below. The coin names were also removed since that info will be contained in the column names once we join the Bitcoin and Ethereum data together."
      ],
      "metadata": {}
    },
    {
      "cell_type": "code",
      "source": [
        "crypto = ETH.merge(BTC, how='inner', on='Date', suffixes=['_ETH', '_BTC'])\n",
        "# Change datetime column to be a date and sort by it\n",
        "crypto.loc[:,'Date'] = pd.to_datetime(crypto.Date).dt.date\n",
        "crypto.sort_values('Date', ascending=True, inplace=True)\n",
        "# Add new columns that prevent data leakage and remove the old ones\n",
        "crypto.loc[:,'LowPrevDay_BTC'] = crypto.Low_BTC.shift(1)\n",
        "crypto.loc[:,'LowPrevDay_ETH'] = crypto.Low_ETH.shift(1)\n",
        "crypto.loc[:,'HighPrevDay_BTC'] = crypto.High_BTC.shift(1)\n",
        "crypto.loc[:,'HighPrevDay_ETH'] = crypto.High_ETH.shift(1)\n",
        "crypto.loc[:,'VolumePrevDay_BTC'] = crypto.Volume_BTC.shift(1)\n",
        "crypto.loc[:,'VolumePrevDay_ETH'] = crypto.Volume_ETH.shift(1)\n",
        "crypto.loc[:,'MarketcapPrevDay_BTC'] = crypto.Marketcap_BTC.shift(1)\n",
        "crypto.loc[:,'MarketcapPrevDay_ETH'] = crypto.Marketcap_ETH.shift(1)\n",
        "crypto.drop(['Low_BTC', 'Low_ETH', 'High_BTC', 'High_ETH', 'Volume_BTC', 'Volume_ETH', 'Marketcap_BTC', 'Marketcap_ETH'], axis=1, inplace=True)\n",
        "# Drop first row since it doesnt have volume from previous day\n",
        "crypto.drop(index=crypto.index[0], axis=0, inplace=True) \n",
        "\n",
        "print(crypto.dtypes, crypto.shape, sep='\\n')\n",
        "\n",
        "crypto.head()"
      ],
      "outputs": [
        {
          "output_type": "stream",
          "name": "stdout",
          "text": [
            "Date                     object\n",
            "Open_ETH                float64\n",
            "Close_ETH               float64\n",
            "Open_BTC                float64\n",
            "Close_BTC               float64\n",
            "LowPrevDay_BTC          float64\n",
            "LowPrevDay_ETH          float64\n",
            "HighPrevDay_BTC         float64\n",
            "HighPrevDay_ETH         float64\n",
            "VolumePrevDay_BTC       float64\n",
            "VolumePrevDay_ETH       float64\n",
            "MarketcapPrevDay_BTC    float64\n",
            "MarketcapPrevDay_ETH    float64\n",
            "dtype: object\n",
            "(2159, 13)\n"
          ]
        },
        {
          "output_type": "execute_result",
          "execution_count": 4,
          "data": {
            "text/plain": "         Date  Open_ETH  Close_ETH    Open_BTC   Close_BTC  LowPrevDay_BTC  \\\n1  2015-08-09  0.706136   0.701897  261.115997  265.083008      260.709991   \n2  2015-08-10  0.713989   0.708448  265.477997  264.470001      260.467987   \n3  2015-08-11  0.708087   1.067860  264.342010  270.385986      262.596008   \n4  2015-08-12  1.058750   1.217440  270.597992  266.376007      264.093994   \n5  2015-08-13  1.222240   1.827670  266.183014  264.079987      265.468994   \n\n   LowPrevDay_ETH  HighPrevDay_BTC  HighPrevDay_ETH  VolumePrevDay_BTC  \\\n1        0.714725       279.928009         2.798810         58533000.0   \n2        0.629191       267.002991         0.879810         23789600.0   \n3        0.636546       267.032013         0.729854         20979400.0   \n4        0.663235       270.385986         1.131410         25433900.0   \n5        0.883608       270.673004         1.289940         26815400.0   \n\n   VolumePrevDay_ETH  MarketcapPrevDay_BTC  MarketcapPrevDay_ETH  \n1           674188.0          3.778049e+09          4.548689e+07  \n2           532170.0          3.838130e+09          4.239957e+07  \n3           405283.0          3.830352e+09          4.281836e+07  \n4          1463100.0          3.917143e+09          6.456929e+07  \n5          2150620.0          3.859888e+09          7.364501e+07  ",
            "text/html": "<div>\n<style scoped>\n    .dataframe tbody tr th:only-of-type {\n        vertical-align: middle;\n    }\n\n    .dataframe tbody tr th {\n        vertical-align: top;\n    }\n\n    .dataframe thead th {\n        text-align: right;\n    }\n</style>\n<table border=\"1\" class=\"dataframe\">\n  <thead>\n    <tr style=\"text-align: right;\">\n      <th></th>\n      <th>Date</th>\n      <th>Open_ETH</th>\n      <th>Close_ETH</th>\n      <th>Open_BTC</th>\n      <th>Close_BTC</th>\n      <th>LowPrevDay_BTC</th>\n      <th>LowPrevDay_ETH</th>\n      <th>HighPrevDay_BTC</th>\n      <th>HighPrevDay_ETH</th>\n      <th>VolumePrevDay_BTC</th>\n      <th>VolumePrevDay_ETH</th>\n      <th>MarketcapPrevDay_BTC</th>\n      <th>MarketcapPrevDay_ETH</th>\n    </tr>\n  </thead>\n  <tbody>\n    <tr>\n      <th>1</th>\n      <td>2015-08-09</td>\n      <td>0.706136</td>\n      <td>0.701897</td>\n      <td>261.115997</td>\n      <td>265.083008</td>\n      <td>260.709991</td>\n      <td>0.714725</td>\n      <td>279.928009</td>\n      <td>2.798810</td>\n      <td>58533000.0</td>\n      <td>674188.0</td>\n      <td>3.778049e+09</td>\n      <td>4.548689e+07</td>\n    </tr>\n    <tr>\n      <th>2</th>\n      <td>2015-08-10</td>\n      <td>0.713989</td>\n      <td>0.708448</td>\n      <td>265.477997</td>\n      <td>264.470001</td>\n      <td>260.467987</td>\n      <td>0.629191</td>\n      <td>267.002991</td>\n      <td>0.879810</td>\n      <td>23789600.0</td>\n      <td>532170.0</td>\n      <td>3.838130e+09</td>\n      <td>4.239957e+07</td>\n    </tr>\n    <tr>\n      <th>3</th>\n      <td>2015-08-11</td>\n      <td>0.708087</td>\n      <td>1.067860</td>\n      <td>264.342010</td>\n      <td>270.385986</td>\n      <td>262.596008</td>\n      <td>0.636546</td>\n      <td>267.032013</td>\n      <td>0.729854</td>\n      <td>20979400.0</td>\n      <td>405283.0</td>\n      <td>3.830352e+09</td>\n      <td>4.281836e+07</td>\n    </tr>\n    <tr>\n      <th>4</th>\n      <td>2015-08-12</td>\n      <td>1.058750</td>\n      <td>1.217440</td>\n      <td>270.597992</td>\n      <td>266.376007</td>\n      <td>264.093994</td>\n      <td>0.663235</td>\n      <td>270.385986</td>\n      <td>1.131410</td>\n      <td>25433900.0</td>\n      <td>1463100.0</td>\n      <td>3.917143e+09</td>\n      <td>6.456929e+07</td>\n    </tr>\n    <tr>\n      <th>5</th>\n      <td>2015-08-13</td>\n      <td>1.222240</td>\n      <td>1.827670</td>\n      <td>266.183014</td>\n      <td>264.079987</td>\n      <td>265.468994</td>\n      <td>0.883608</td>\n      <td>270.673004</td>\n      <td>1.289940</td>\n      <td>26815400.0</td>\n      <td>2150620.0</td>\n      <td>3.859888e+09</td>\n      <td>7.364501e+07</td>\n    </tr>\n  </tbody>\n</table>\n</div>"
          },
          "metadata": {}
        }
      ],
      "execution_count": 4,
      "metadata": {
        "gather": {
          "logged": 1629165143463
        }
      }
    },
    {
      "cell_type": "markdown",
      "source": [
        "Before modeling there are a few things I'd like to understand about the data. First let's look at what we're trying to predict: close price of ETH "
      ],
      "metadata": {}
    },
    {
      "cell_type": "code",
      "source": [
        "plt.plot(crypto.Date, crypto.Close_ETH)\n",
        "plt.show()"
      ],
      "outputs": [
        {
          "output_type": "stream",
          "name": "stderr",
          "text": [
            "/anaconda/envs/azureml_py36/lib/python3.6/site-packages/pandas/plotting/_matplotlib/converter.py:103: FutureWarning: Using an implicitly registered datetime converter for a matplotlib plotting method. The converter was registered by pandas on import. Future versions of pandas will require you to explicitly register matplotlib converters.\n",
            "\n",
            "To register the converters:\n",
            "\t>>> from pandas.plotting import register_matplotlib_converters\n",
            "\t>>> register_matplotlib_converters()\n",
            "  warnings.warn(msg, FutureWarning)\n"
          ]
        },
        {
          "output_type": "display_data",
          "data": {
            "text/plain": "<Figure size 432x288 with 1 Axes>",
            "image/png": "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\n"
          },
          "metadata": {
            "needs_background": "light"
          }
        }
      ],
      "execution_count": 5,
      "metadata": {
        "jupyter": {
          "outputs_hidden": false,
          "source_hidden": false
        },
        "nteract": {
          "transient": {
            "deleting": false
          }
        },
        "gather": {
          "logged": 1629165143882
        }
      }
    },
    {
      "cell_type": "markdown",
      "source": [
        "We can also verify that Bitcoin prices are a leading indicator of Ethereum prices by transforming the closing price to represent a percent of the maximum value in the time series. Bitcoin value is much higher than Ethereum so this transformation allows the two time series to be visually comparable."
      ],
      "metadata": {}
    },
    {
      "cell_type": "code",
      "source": [
        "crypto.loc[:,'ClosePercentMax_ETH'] = crypto.Close_ETH / max(crypto.Close_ETH)\n",
        "crypto.loc[:,'ClosePercentMax_BTC'] = crypto.Close_BTC / max(crypto.Close_BTC)\n",
        "crypto.drop(['Close_BTC'], axis=1, inplace=True) # data leakage, remove since we dont need it anymore\n",
        "\n",
        "fig, ax = plt.subplots()\n",
        "ax.plot(crypto.Date, crypto.ClosePercentMax_ETH, label='ETH')\n",
        "ax.plot(crypto.Date, crypto.ClosePercentMax_BTC, label='BTC')\n",
        "plt.title('Percent of Max Close Price')\n",
        "ax.legend()\n",
        "ax.xaxis.set_major_formatter(dates.DateFormatter(\"%b-%Y\"))"
      ],
      "outputs": [
        {
          "output_type": "display_data",
          "data": {
            "text/plain": "<Figure size 432x288 with 1 Axes>",
            "image/png": "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\n"
          },
          "metadata": {
            "needs_background": "light"
          }
        }
      ],
      "execution_count": 6,
      "metadata": {
        "scrolled": true,
        "gather": {
          "logged": 1629165144112
        }
      }
    },
    {
      "cell_type": "markdown",
      "source": [
        "These time series will then be deleted since they will not be used for modeling"
      ],
      "metadata": {}
    },
    {
      "cell_type": "code",
      "source": [
        "crypto.drop(['ClosePercentMax_BTC', 'ClosePercentMax_ETH'], axis=1, inplace=True)"
      ],
      "outputs": [],
      "execution_count": 7,
      "metadata": {
        "gather": {
          "logged": 1629165144319
        }
      }
    },
    {
      "cell_type": "markdown",
      "source": [
        "The hypothesis seems to hold true.\n",
        "\n",
        "What else can we find out about this data?"
      ],
      "metadata": {}
    },
    {
      "cell_type": "code",
      "source": [
        "# Other EDA\r\n",
        "fig, ax = plt.subplots()\r\n",
        "ax.plot(crypto.Date, crypto.VolumePrevDay_ETH, label='ETH')\r\n",
        "ax.plot(crypto.Date, crypto.VolumePrevDay_BTC, label='BTC')\r\n",
        "plt.title(\"Previous Day's Volume\")\r\n",
        "ax.legend()\r\n",
        "ax.xaxis.set_major_formatter(dates.DateFormatter(\"%b-%Y\"))\r\n",
        "\r\n",
        "fig, ax = plt.subplots()\r\n",
        "ax.plot(crypto.Date, crypto.MarketcapPrevDay_ETH, label='ETH')\r\n",
        "ax.plot(crypto.Date, crypto.MarketcapPrevDay_BTC, label='BTC')\r\n",
        "plt.title(\"Previous Day's Market Capitalization\")\r\n",
        "ax.legend()\r\n",
        "ax.xaxis.set_major_formatter(dates.DateFormatter(\"%b-%Y\"))\r\n",
        "\r\n",
        "\r\n",
        "# values = crypto.values\r\n",
        "# i = 1\r\n",
        "# # plot each column\r\n",
        "# plt.figure()\r\n",
        "# for group in 1:len(crypto.columns):\r\n",
        "# \tplt.subplot(len(crypto.columns), 1, i)\r\n",
        "# \tplt.plot(values[:, group])\r\n",
        "# \tplt.title(crypto.columns[group], y=0.5, loc='right')\r\n",
        "# \ti += 1\r\n",
        "# plt.show()"
      ],
      "outputs": [
        {
          "output_type": "display_data",
          "data": {
            "text/plain": "<Figure size 432x288 with 1 Axes>",
            "image/png": "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\n"
          },
          "metadata": {
            "needs_background": "light"
          }
        },
        {
          "output_type": "display_data",
          "data": {
            "text/plain": "<Figure size 432x288 with 1 Axes>",
            "image/png": "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\n"
          },
          "metadata": {
            "needs_background": "light"
          }
        }
      ],
      "execution_count": 8,
      "metadata": {
        "collapsed": true,
        "jupyter": {
          "source_hidden": false,
          "outputs_hidden": false
        },
        "nteract": {
          "transient": {
            "deleting": false
          }
        },
        "gather": {
          "logged": 1629165144725
        }
      }
    },
    {
      "cell_type": "markdown",
      "source": [
        "Now we need to split the data into appropriate test and validation sets. I'll be using the first 80% of time series data for training, the next 10% for validation, and the final 10% for testing."
      ],
      "metadata": {
        "nteract": {
          "transient": {
            "deleting": false
          }
        }
      }
    },
    {
      "cell_type": "code",
      "source": [
        "train_size = int(round(crypto.shape[0]*0.8, 0))\n",
        "val_size = int(round(crypto.shape[0]*0.1, 0))\n",
        "\n",
        "train_df = crypto.iloc[0:train_size,:]\n",
        "train_name = 'train_Ethereum.csv'\n",
        "train_df.to_csv('./data/' + train_name, index=False)\n",
        "\n",
        "val_df = crypto.iloc[train_size:(train_size + val_size),:]\n",
        "val_name = 'val_Ethereum.csv'\n",
        "val_df.to_csv('./data/' + val_name, index=False)\n",
        "\n",
        "test_df = crypto.iloc[(train_size + val_size):crypto.shape[0],:]\n",
        "test_name = 'test_Ethereum.csv'\n",
        "test_df.to_csv('./data/' + test_name, index=False)\n",
        "\n",
        "print('Train date range:', min(train_df.Date), 'to', max(train_df.Date))\n",
        "print('Validation date range:', min(val_df.Date), 'to', max(val_df.Date))\n",
        "print('Test date range:', min(test_df.Date), 'to', max(test_df.Date))"
      ],
      "outputs": [
        {
          "output_type": "stream",
          "name": "stdout",
          "text": [
            "Train date range: 2015-08-09 to 2020-04-30\n",
            "Validation date range: 2020-05-01 to 2020-12-02\n",
            "Test date range: 2020-12-03 to 2021-07-06\n"
          ]
        }
      ],
      "execution_count": 9,
      "metadata": {
        "gather": {
          "logged": 1629165145299
        }
      }
    },
    {
      "cell_type": "code",
      "source": [
        "train_df.head()"
      ],
      "outputs": [
        {
          "output_type": "execute_result",
          "execution_count": 10,
          "data": {
            "text/plain": "         Date  Open_ETH  Close_ETH    Open_BTC  LowPrevDay_BTC  \\\n1  2015-08-09  0.706136   0.701897  261.115997      260.709991   \n2  2015-08-10  0.713989   0.708448  265.477997      260.467987   \n3  2015-08-11  0.708087   1.067860  264.342010      262.596008   \n4  2015-08-12  1.058750   1.217440  270.597992      264.093994   \n5  2015-08-13  1.222240   1.827670  266.183014      265.468994   \n\n   LowPrevDay_ETH  HighPrevDay_BTC  HighPrevDay_ETH  VolumePrevDay_BTC  \\\n1        0.714725       279.928009         2.798810         58533000.0   \n2        0.629191       267.002991         0.879810         23789600.0   \n3        0.636546       267.032013         0.729854         20979400.0   \n4        0.663235       270.385986         1.131410         25433900.0   \n5        0.883608       270.673004         1.289940         26815400.0   \n\n   VolumePrevDay_ETH  MarketcapPrevDay_BTC  MarketcapPrevDay_ETH  \n1           674188.0          3.778049e+09          4.548689e+07  \n2           532170.0          3.838130e+09          4.239957e+07  \n3           405283.0          3.830352e+09          4.281836e+07  \n4          1463100.0          3.917143e+09          6.456929e+07  \n5          2150620.0          3.859888e+09          7.364501e+07  ",
            "text/html": "<div>\n<style scoped>\n    .dataframe tbody tr th:only-of-type {\n        vertical-align: middle;\n    }\n\n    .dataframe tbody tr th {\n        vertical-align: top;\n    }\n\n    .dataframe thead th {\n        text-align: right;\n    }\n</style>\n<table border=\"1\" class=\"dataframe\">\n  <thead>\n    <tr style=\"text-align: right;\">\n      <th></th>\n      <th>Date</th>\n      <th>Open_ETH</th>\n      <th>Close_ETH</th>\n      <th>Open_BTC</th>\n      <th>LowPrevDay_BTC</th>\n      <th>LowPrevDay_ETH</th>\n      <th>HighPrevDay_BTC</th>\n      <th>HighPrevDay_ETH</th>\n      <th>VolumePrevDay_BTC</th>\n      <th>VolumePrevDay_ETH</th>\n      <th>MarketcapPrevDay_BTC</th>\n      <th>MarketcapPrevDay_ETH</th>\n    </tr>\n  </thead>\n  <tbody>\n    <tr>\n      <th>1</th>\n      <td>2015-08-09</td>\n      <td>0.706136</td>\n      <td>0.701897</td>\n      <td>261.115997</td>\n      <td>260.709991</td>\n      <td>0.714725</td>\n      <td>279.928009</td>\n      <td>2.798810</td>\n      <td>58533000.0</td>\n      <td>674188.0</td>\n      <td>3.778049e+09</td>\n      <td>4.548689e+07</td>\n    </tr>\n    <tr>\n      <th>2</th>\n      <td>2015-08-10</td>\n      <td>0.713989</td>\n      <td>0.708448</td>\n      <td>265.477997</td>\n      <td>260.467987</td>\n      <td>0.629191</td>\n      <td>267.002991</td>\n      <td>0.879810</td>\n      <td>23789600.0</td>\n      <td>532170.0</td>\n      <td>3.838130e+09</td>\n      <td>4.239957e+07</td>\n    </tr>\n    <tr>\n      <th>3</th>\n      <td>2015-08-11</td>\n      <td>0.708087</td>\n      <td>1.067860</td>\n      <td>264.342010</td>\n      <td>262.596008</td>\n      <td>0.636546</td>\n      <td>267.032013</td>\n      <td>0.729854</td>\n      <td>20979400.0</td>\n      <td>405283.0</td>\n      <td>3.830352e+09</td>\n      <td>4.281836e+07</td>\n    </tr>\n    <tr>\n      <th>4</th>\n      <td>2015-08-12</td>\n      <td>1.058750</td>\n      <td>1.217440</td>\n      <td>270.597992</td>\n      <td>264.093994</td>\n      <td>0.663235</td>\n      <td>270.385986</td>\n      <td>1.131410</td>\n      <td>25433900.0</td>\n      <td>1463100.0</td>\n      <td>3.917143e+09</td>\n      <td>6.456929e+07</td>\n    </tr>\n    <tr>\n      <th>5</th>\n      <td>2015-08-13</td>\n      <td>1.222240</td>\n      <td>1.827670</td>\n      <td>266.183014</td>\n      <td>265.468994</td>\n      <td>0.883608</td>\n      <td>270.673004</td>\n      <td>1.289940</td>\n      <td>26815400.0</td>\n      <td>2150620.0</td>\n      <td>3.859888e+09</td>\n      <td>7.364501e+07</td>\n    </tr>\n  </tbody>\n</table>\n</div>"
          },
          "metadata": {}
        }
      ],
      "execution_count": 10,
      "metadata": {
        "gather": {
          "logged": 1629165145524
        }
      }
    },
    {
      "cell_type": "code",
      "source": [
        "# Register the datasets from the csv files\n",
        "datastore.upload(src_dir='./data', target_path='crypto', overwrite=True, show_progress=True)\n",
        "\n",
        "train_dataset = Dataset.Tabular.from_delimited_files(datastore.path('crypto/' + train_name))        \n",
        "val_dataset = Dataset.Tabular.from_delimited_files(datastore.path('crypto/' + val_name))          \n",
        "test_dataset = Dataset.Tabular.from_delimited_files(datastore.path('crypto/' + test_name))"
      ],
      "outputs": [
        {
          "output_type": "stream",
          "name": "stdout",
          "text": [
            "Uploading an estimated of 7 files\n",
            "Uploading ./data/.amlignore\n",
            "Uploaded ./data/.amlignore, 1 files out of an estimated total of 7\n",
            "Uploading ./data/.amlignore.amltmp\n",
            "Uploaded ./data/.amlignore.amltmp, 2 files out of an estimated total of 7\n",
            "Uploading ./data/crypto.csv\n",
            "Uploaded ./data/crypto.csv, 3 files out of an estimated total of 7\n",
            "Uploading ./data/cryptocurrencypricehistory.zip\n",
            "Uploaded ./data/cryptocurrencypricehistory.zip, 4 files out of an estimated total of 7\n",
            "Uploading ./data/test_Ethereum.csv\n",
            "Uploaded ./data/test_Ethereum.csv, 5 files out of an estimated total of 7\n",
            "Uploading ./data/train_Ethereum.csv\n",
            "Uploaded ./data/train_Ethereum.csv, 6 files out of an estimated total of 7\n",
            "Uploading ./data/val_Ethereum.csv\n",
            "Uploaded ./data/val_Ethereum.csv, 7 files out of an estimated total of 7\n",
            "Uploaded 7 files\n"
          ]
        }
      ],
      "execution_count": 11,
      "metadata": {
        "gather": {
          "logged": 1629165148801
        },
        "jupyter": {
          "outputs_hidden": false,
          "source_hidden": false
        },
        "nteract": {
          "transient": {
            "deleting": false
          }
        }
      }
    },
    {
      "cell_type": "code",
      "source": [
        "train_dataset.to_pandas_dataframe().head()"
      ],
      "outputs": [
        {
          "output_type": "execute_result",
          "execution_count": 12,
          "data": {
            "text/plain": "        Date  Open_ETH  Close_ETH    Open_BTC  LowPrevDay_BTC  LowPrevDay_ETH  \\\n0 2015-08-09  0.706136   0.701897  261.115997      260.709991        0.714725   \n1 2015-08-10  0.713989   0.708448  265.477997      260.467987        0.629191   \n2 2015-08-11  0.708087   1.067860  264.342010      262.596008        0.636546   \n3 2015-08-12  1.058750   1.217440  270.597992      264.093994        0.663235   \n4 2015-08-13  1.222240   1.827670  266.183014      265.468994        0.883608   \n\n   HighPrevDay_BTC  HighPrevDay_ETH  VolumePrevDay_BTC  VolumePrevDay_ETH  \\\n0       279.928009         2.798810         58533000.0           674188.0   \n1       267.002991         0.879810         23789600.0           532170.0   \n2       267.032013         0.729854         20979400.0           405283.0   \n3       270.385986         1.131410         25433900.0          1463100.0   \n4       270.673004         1.289940         26815400.0          2150620.0   \n\n   MarketcapPrevDay_BTC  MarketcapPrevDay_ETH  \n0          3.778049e+09          4.548689e+07  \n1          3.838130e+09          4.239957e+07  \n2          3.830352e+09          4.281836e+07  \n3          3.917143e+09          6.456929e+07  \n4          3.859888e+09          7.364501e+07  ",
            "text/html": "<div>\n<style scoped>\n    .dataframe tbody tr th:only-of-type {\n        vertical-align: middle;\n    }\n\n    .dataframe tbody tr th {\n        vertical-align: top;\n    }\n\n    .dataframe thead th {\n        text-align: right;\n    }\n</style>\n<table border=\"1\" class=\"dataframe\">\n  <thead>\n    <tr style=\"text-align: right;\">\n      <th></th>\n      <th>Date</th>\n      <th>Open_ETH</th>\n      <th>Close_ETH</th>\n      <th>Open_BTC</th>\n      <th>LowPrevDay_BTC</th>\n      <th>LowPrevDay_ETH</th>\n      <th>HighPrevDay_BTC</th>\n      <th>HighPrevDay_ETH</th>\n      <th>VolumePrevDay_BTC</th>\n      <th>VolumePrevDay_ETH</th>\n      <th>MarketcapPrevDay_BTC</th>\n      <th>MarketcapPrevDay_ETH</th>\n    </tr>\n  </thead>\n  <tbody>\n    <tr>\n      <th>0</th>\n      <td>2015-08-09</td>\n      <td>0.706136</td>\n      <td>0.701897</td>\n      <td>261.115997</td>\n      <td>260.709991</td>\n      <td>0.714725</td>\n      <td>279.928009</td>\n      <td>2.798810</td>\n      <td>58533000.0</td>\n      <td>674188.0</td>\n      <td>3.778049e+09</td>\n      <td>4.548689e+07</td>\n    </tr>\n    <tr>\n      <th>1</th>\n      <td>2015-08-10</td>\n      <td>0.713989</td>\n      <td>0.708448</td>\n      <td>265.477997</td>\n      <td>260.467987</td>\n      <td>0.629191</td>\n      <td>267.002991</td>\n      <td>0.879810</td>\n      <td>23789600.0</td>\n      <td>532170.0</td>\n      <td>3.838130e+09</td>\n      <td>4.239957e+07</td>\n    </tr>\n    <tr>\n      <th>2</th>\n      <td>2015-08-11</td>\n      <td>0.708087</td>\n      <td>1.067860</td>\n      <td>264.342010</td>\n      <td>262.596008</td>\n      <td>0.636546</td>\n      <td>267.032013</td>\n      <td>0.729854</td>\n      <td>20979400.0</td>\n      <td>405283.0</td>\n      <td>3.830352e+09</td>\n      <td>4.281836e+07</td>\n    </tr>\n    <tr>\n      <th>3</th>\n      <td>2015-08-12</td>\n      <td>1.058750</td>\n      <td>1.217440</td>\n      <td>270.597992</td>\n      <td>264.093994</td>\n      <td>0.663235</td>\n      <td>270.385986</td>\n      <td>1.131410</td>\n      <td>25433900.0</td>\n      <td>1463100.0</td>\n      <td>3.917143e+09</td>\n      <td>6.456929e+07</td>\n    </tr>\n    <tr>\n      <th>4</th>\n      <td>2015-08-13</td>\n      <td>1.222240</td>\n      <td>1.827670</td>\n      <td>266.183014</td>\n      <td>265.468994</td>\n      <td>0.883608</td>\n      <td>270.673004</td>\n      <td>1.289940</td>\n      <td>26815400.0</td>\n      <td>2150620.0</td>\n      <td>3.859888e+09</td>\n      <td>7.364501e+07</td>\n    </tr>\n  </tbody>\n</table>\n</div>"
          },
          "metadata": {}
        }
      ],
      "execution_count": 12,
      "metadata": {
        "gather": {
          "logged": 1629165149096
        }
      }
    },
    {
      "cell_type": "markdown",
      "source": [
        "You can see the data is the same before and after uploading it to blob storage. Let's use it to train."
      ],
      "metadata": {}
    },
    {
      "cell_type": "markdown",
      "source": [
        "## AutoML Pipeline Configuration\n",
        "\n",
        "These settings and configs were chosen to balance training speed and model accuracy. \n",
        "\n",
        "Training Speed:\n",
        "I chose the run time to not exceed 4 hours by changing `experiment_timeout_hours` to ensure some time to play with the resulting models the same day I run this code. To minimize the time it takes to do the training I blocked a few modeling algorithms with `blocked_models` since I know they generally don't perform well on tasks like this. I also bumped up the computation to be spread across 5 of the 6 possible nodes with `max_concurrent_iterations` which leaves one for general purpose programming and orchestration as needed. Finally I turned on `enable_early_stopping` so that training would cease if a model was stagnant or worse as a result of continued training iterations.\n",
        "\n",
        "Model Accuracy:\n",
        "I chose a `normalized_root_mean_squared_error` (normalized RMSE) as the primary evaluation metric for the models to compete on. Regular RMSE gives an accurate representation of how far off the predictions are in either direction from the true price. That value is then normalized to account for any scaling discrepancies between modeling algorithms. This normalization will allow AutoML to compare all models apples to apples and pick the best model. This metric was calculated setting `validation_data` to our validation dataset to evaluate out-of-time data instead of random time periods within the trainig dataset. I also turned on `featurization` to `auto` which takes longer but could be important in automatically creating training features that would boost model performance."
      ],
      "metadata": {}
    },
    {
      "cell_type": "code",
      "source": [
        "if not os.path.exists('./automl_model'):\n",
        "    os.makedirs('./automl_model')\n",
        "\n",
        "automl_settings = {\n",
        "    'experiment_timeout_minutes': 120,\n",
        "    'max_concurrent_iterations': cluster_count-1,\n",
        "    'primary_metric' : 'normalized_root_mean_squared_error'\n",
        "}\n",
        "# Cannot save ONNX time series models\n",
        "automl_config = AutoMLConfig(\n",
        "    compute_target=compute_target,\n",
        "    path='./automl_model',\n",
        "    task = 'forecasting',\n",
        "    training_data=train_dataset,\n",
        "    validation_data=val_dataset,\n",
        "    label_column_name='Close_ETH', \n",
        "    time_column_name='Date',\n",
        "    blocked_models = ['KNN','LinearSVM'],\n",
        "    featurization= 'auto',\n",
        "    enable_early_stopping = True,\n",
        "    enable_dnn = True,\n",
        "    model_explainability = True,\n",
        "    **automl_settings\n",
        ")\n"
      ],
      "outputs": [],
      "execution_count": 13,
      "metadata": {
        "gather": {
          "logged": 1629165149290
        },
        "jupyter": {
          "outputs_hidden": false,
          "source_hidden": false
        },
        "nteract": {
          "transient": {
            "deleting": false
          }
        }
      }
    },
    {
      "cell_type": "markdown",
      "source": [
        "To deploy the AutoML model that will be created we can turn it into a pipeline that outputs the performance metrics of the models considered and the best model."
      ],
      "metadata": {
        "nteract": {
          "transient": {
            "deleting": false
          }
        }
      }
    },
    {
      "cell_type": "code",
      "source": [
        "metrics_output_name = 'metrics_output'\r\n",
        "best_model_output_name = 'best_model_output'\r\n",
        "\r\n",
        "metrics_data = PipelineData(\r\n",
        "    name='metrics_data',\r\n",
        "    datastore=datastore,\r\n",
        "    pipeline_output_name=metrics_output_name,\r\n",
        "    training_output=TrainingOutput(type='Metrics'))\r\n",
        "model_data = PipelineData(\r\n",
        "    name='model_data',\r\n",
        "    datastore=datastore,\r\n",
        "    pipeline_output_name=best_model_output_name,\r\n",
        "    training_output=TrainingOutput(type='Model'))\r\n",
        "automl_step = AutoMLStep(\r\n",
        "    name='automl_module',\r\n",
        "    automl_config=automl_config,\r\n",
        "    outputs=[metrics_data, model_data],\r\n",
        "    allow_reuse=True)\r\n",
        "\r\n",
        "pipeline = Pipeline(\r\n",
        "    description=\"pipeline_with_automlstep\",\r\n",
        "    workspace=ws,    \r\n",
        "    steps=[automl_step])"
      ],
      "outputs": [],
      "execution_count": 14,
      "metadata": {
        "collapsed": true,
        "jupyter": {
          "source_hidden": false,
          "outputs_hidden": false
        },
        "nteract": {
          "transient": {
            "deleting": false
          }
        },
        "gather": {
          "logged": 1629165151185
        }
      }
    },
    {
      "cell_type": "code",
      "source": [
        "# Submit the experiment\n",
        "run = experiment.submit(pipeline)"
      ],
      "outputs": [],
      "execution_count": null,
      "metadata": {
        "gather": {
          "logged": 1629165155081
        },
        "jupyter": {
          "outputs_hidden": false,
          "source_hidden": false
        },
        "nteract": {
          "transient": {
            "deleting": false
          }
        }
      }
    },
    {
      "cell_type": "markdown",
      "source": [
        "## Run Details\n",
        "\n",
        "We can then see the status and details of the pipeline construction below."
      ],
      "metadata": {}
    },
    {
      "cell_type": "code",
      "source": [
        "RunDetails(run).show()\n",
        "run.wait_for_completion()"
      ],
      "outputs": [
        {
          "output_type": "display_data",
          "data": {
            "text/plain": "_PipelineWidget(widget_settings={'childWidgetDisplay': 'popup', 'send_telemetry': False, 'log_level': 'INFO', …",
            "application/vnd.jupyter.widget-view+json": {
              "version_major": 2,
              "version_minor": 0,
              "model_id": ""
            }
          },
          "metadata": {}
        },
        {
          "output_type": "display_data",
          "data": {
            "Removed"  
          },
          "metadata": {}
        },
        {
          "output_type": "stream",
          "name": "stdout",
          "text": [
            "PipelineRunId: \n",
            "PipelineRun Status: NotStarted\n",
            "PipelineRun Status: Running\n",
            "\n",
            "\n",
           "StepRun( automl_module ) Status: Running\n",
            "\n",
            "StepRun(automl_module) Execution Summary\n",
            "=========================================\n",
            "StepRun( automl_module ) Status: Finished\n",
            "\n",
            "\n",
            "\n",
            "PipelineRun Execution Summary\n",
            "==============================\n",
            "PipelineRun Status: Finished\n",
            "\n"
          ]
        },
        {
          "output_type": "execute_result",
          "execution_count": 16,
          "data": {
            "text/plain": "'Finished'"
          },
          "metadata": {}
        }
      ],
      "execution_count": 16,
      "metadata": {
        "gather": {
          "logged": 1629167372080
        },
        "jupyter": {
          "outputs_hidden": false,
          "source_hidden": false
        },
        "nteract": {
          "transient": {
            "deleting": false
          }
        },
        "scrolled": true
      }
    },
    {
      "cell_type": "markdown",
      "source": [
        "## Best Model\n",
        "\n",
        "Below you can see the multiple model runs from the AutoML step with their respective metrics. Afterwards the best model from the AutoML experiments is retreived from the run its properties are displayed. You can see the steps the run went through to create the model."
      ],
      "metadata": {}
    },
    {
      "cell_type": "code",
      "source": [
        "# Model Metrics\r\n",
        "metrics_output_name='metrics_output'\r\n",
        "metrics_output = run.get_pipeline_output(metrics_output_name)\r\n",
        "metrics_output.download('./automl_model', show_progress=True)"
      ],
      "outputs": [
        {
          "output_type": "stream",
          "name": "stdout",
          "text": [
            "Downloading azureml/7220258f-2ede-4f25-80fd-9bbfc545338f/metrics_data\n",
            "Downloaded azureml/7220258f-2ede-4f25-80fd-9bbfc545338f/metrics_data, 1 files out of an estimated total of 1\n"
          ]
        },
        {
          "output_type": "execute_result",
          "execution_count": 17,
          "data": {
            "text/plain": "1"
          },
          "metadata": {}
        }
      ],
      "execution_count": 17,
      "metadata": {
        "collapsed": true,
        "jupyter": {
          "source_hidden": false,
          "outputs_hidden": false
        },
        "nteract": {
          "transient": {
            "deleting": false
          }
        },
        "gather": {
          "logged": 1629167372730
        }
      }
    },
    {
      "cell_type": "code",
      "source": [
        "# If the path on the datastore doesn't load for some reason you can manually find where the download occurred in your workspace and use it\r\n",
        "with open('./automl_model/' + str(metrics_output._path_on_datastore)) as f:\r\n",
        "    metrics_output_result = f.read()      \r\n",
        "    \r\n",
        "deserialized_metrics_output = json.loads(metrics_output_result)\r\n",
        "metric_df = pd.DataFrame(deserialized_metrics_output)\r\n",
        "metric_df"
      ],
      "outputs": [
        {
          "output_type": "execute_result",
          "execution_count": 20,
          "data": {
            "text/plain": "                                       7220258f-2ede-4f25-80fd-9bbfc545338f_533  \\\nroot_mean_squared_log_error                               [0.07848353302136687]   \nnormalized_root_mean_squared_error                       [0.028070531758493566]   \nr2_score                                                   [0.8518346739328778]   \nmedian_absolute_error                                        [10.2775778155914]   \nspearman_correlation                                       [0.9722634907097637]   \nroot_mean_squared_error                                     [39.18604731060366]   \nnormalized_root_mean_squared_log_error                   [0.011405273341952528]   \nmean_absolute_percentage_error                              [5.647826170264447]   \nexplained_variance                                         [0.8772336115922973]   \nnormalized_mean_absolute_error                            [0.01608388170230386]   \nmean_absolute_error                                        [22.452861055399378]   \nnormalized_median_absolute_error                         [0.007362239732581566]   \nbest_child_by_primary_metric                                                NaN   \n\n                                       7220258f-2ede-4f25-80fd-9bbfc545338f_540  \\\nroot_mean_squared_log_error                               [0.08357895502311653]   \nnormalized_root_mean_squared_error                       [0.018273237921762712]   \nr2_score                                                   [0.9372120477708178]   \nmedian_absolute_error                                       [19.26534331886947]   \nspearman_correlation                                       [0.9698281713285464]   \nroot_mean_squared_error                                     [25.50916996801982]   \nnormalized_root_mean_squared_log_error                   [0.012145743074714586]   \nmean_absolute_percentage_error                              [6.995644058764874]   \nexplained_variance                                         [0.9502888789971928]   \nnormalized_mean_absolute_error                            [0.01494778926633853]   \nmean_absolute_error                                         [20.86689281197678]   \nnormalized_median_absolute_error                         [0.013800535358519588]   \nbest_child_by_primary_metric                                                NaN   \n\n                                       7220258f-2ede-4f25-80fd-9bbfc545338f_538  \\\nroot_mean_squared_log_error                               [0.06456493932250297]   \nnormalized_root_mean_squared_error                        [0.01979347483976125]   \nr2_score                                                   [0.9263302174077445]   \nmedian_absolute_error                                       [12.01598719399999]   \nspearman_correlation                                       [0.9725975343027116]   \nroot_mean_squared_error                                    [27.631398228764887]   \nnormalized_root_mean_squared_log_error                   [0.009382615090470614]   \nmean_absolute_percentage_error                              [5.174099161381299]   \nexplained_variance                                         [0.9480252989998994]   \nnormalized_mean_absolute_error                           [0.013813753272548867]   \nmean_absolute_error                                        [19.283795331426806]   \nnormalized_median_absolute_error                         [0.008607531845845482]   \nbest_child_by_primary_metric                                                NaN   \n\n                                       7220258f-2ede-4f25-80fd-9bbfc545338f_532  \\\nroot_mean_squared_log_error                               [0.05043756106543137]   \nnormalized_root_mean_squared_error                       [0.014844063435639794]   \nr2_score                                                    [0.958566568328075]   \nmedian_absolute_error                                       [9.444469984055331]   \nspearman_correlation                                        [0.975554035561938]   \nroot_mean_squared_error                                    [20.722093085913077]   \nnormalized_root_mean_squared_log_error                   [0.007329616143759176]   \nmean_absolute_percentage_error                             [3.8753925218536645]   \nexplained_variance                                         [0.9632435919960599]   \nnormalized_mean_absolute_error                            [0.01007164433657638]   \nmean_absolute_error                                        [14.059866584081975]   \nnormalized_median_absolute_error                         [0.006765451297707841]   \nbest_child_by_primary_metric                                                NaN   \n\n                                       7220258f-2ede-4f25-80fd-9bbfc545338f_536  \\\nroot_mean_squared_log_error                               [0.04986006163281597]   \nnormalized_root_mean_squared_error                       [0.014012633203979944]   \nr2_score                                                   [0.9630780347275814]   \nmedian_absolute_error                                       [9.806826711460545]   \nspearman_correlation                                       [0.9754438609652412]   \nroot_mean_squared_error                                     [19.56142877525459]   \nnormalized_root_mean_squared_log_error                   [0.007245693585354372]   \nmean_absolute_percentage_error                             [3.9772442421778305]   \nexplained_variance                                         [0.9704778144186459]   \nnormalized_mean_absolute_error                           [0.010009894356877966]   \nmean_absolute_error                                         [13.97366452539961]   \nnormalized_median_absolute_error                         [0.007025021903130435]   \nbest_child_by_primary_metric                                                NaN   \n\n                                       7220258f-2ede-4f25-80fd-9bbfc545338f_535  \\\nroot_mean_squared_log_error                               [0.04191588481904112]   \nnormalized_root_mean_squared_error                       [0.011352645103402876]   \nr2_score                                                   [0.9757652008665804]   \nmedian_absolute_error                                       [8.242229858700327]   \nspearman_correlation                                       [0.9757344097929244]   \nroot_mean_squared_error                                     [15.84812471490965]   \nnormalized_root_mean_squared_log_error                   [0.006091241121890008]   \nmean_absolute_percentage_error                             [3.1510364790585044]   \nexplained_variance                                         [0.9788339593032429]   \nnormalized_mean_absolute_error                           [0.008088106713412379]   \nmean_absolute_error                                        [11.290877388850634]   \nnormalized_median_absolute_error                         [0.005904238648403941]   \nbest_child_by_primary_metric                                                NaN   \n\n                                       7220258f-2ede-4f25-80fd-9bbfc545338f_539  \\\nroot_mean_squared_log_error                               [0.04282669232651981]   \nnormalized_root_mean_squared_error                       [0.012346696230134532]   \nr2_score                                                   [0.9713353378246903]   \nmedian_absolute_error                                       [7.237140057226227]   \nspearman_correlation                                       [0.9765649327197362]   \nroot_mean_squared_error                                    [17.235805390730093]   \nnormalized_root_mean_squared_log_error                   [0.006223600206462168]   \nmean_absolute_percentage_error                              [3.153323643084894]   \nexplained_variance                                         [0.9736368860494893]   \nnormalized_mean_absolute_error                           [0.008108150477485115]   \nmean_absolute_error                                        [11.318858187148091]   \nnormalized_median_absolute_error                          [0.00518425265520625]   \nbest_child_by_primary_metric                                                NaN   \n\n                                       7220258f-2ede-4f25-80fd-9bbfc545338f_516  \\\nroot_mean_squared_log_error                              [0.041916931158099115]   \nnormalized_root_mean_squared_error                       [0.011352856972728595]   \nr2_score                                                    [0.975764296291758]   \nmedian_absolute_error                                         [8.2425580289066]   \nspearman_correlation                                       [0.9757344097929244]   \nroot_mean_squared_error                                    [15.848420481355856]   \nnormalized_root_mean_squared_log_error                   [0.006091393176499497]   \nmean_absolute_percentage_error                              [3.151119097710324]   \nexplained_variance                                         [0.9788333367605832]   \nnormalized_mean_absolute_error                           [0.008088310032934795]   \nmean_absolute_error                                        [11.291161219897836]   \nnormalized_median_absolute_error                         [0.005904473729838013]   \nbest_child_by_primary_metric                                                NaN   \n\n                                       7220258f-2ede-4f25-80fd-9bbfc545338f_515  \\\nroot_mean_squared_log_error                              [0.042045225764817284]   \nnormalized_root_mean_squared_error                       [0.011365945060591338]   \nr2_score                                                    [0.975708384046759]   \nmedian_absolute_error                                        [8.06241685886532]   \nspearman_correlation                                       [0.9766477333619118]   \nroot_mean_squared_error                                    [15.866691258504193]   \nnormalized_root_mean_squared_log_error                   [0.006110037024471028]   \nmean_absolute_percentage_error                             [3.3617138793259618]   \nexplained_variance                                         [0.9774538691028084]   \nnormalized_mean_absolute_error                           [0.008230954040117837]   \nmean_absolute_error                                         [11.49029014492639]   \nnormalized_median_absolute_error                         [0.005775431410397755]   \nbest_child_by_primary_metric                                                NaN   \n\n                                       7220258f-2ede-4f25-80fd-9bbfc545338f_520  \\\nroot_mean_squared_log_error                              [0.042485009537901734]   \nnormalized_root_mean_squared_error                       [0.011670720592553344]   \nr2_score                                                    [0.974388167965344]   \nmedian_absolute_error                                       [8.662059182564406]   \nspearman_correlation                                       [0.9764560187665963]   \nroot_mean_squared_error                                    [16.292153395001264]   \nnormalized_root_mean_squared_log_error                   [0.006173946661948967]   \nmean_absolute_percentage_error                              [3.373678096303097]   \nexplained_variance                                         [0.9764142641953599]   \nnormalized_mean_absolute_error                           [0.008343441957966302]   \nmean_absolute_error                                        [11.647321615103207]   \nnormalized_median_absolute_error                         [0.006204979171561645]   \nbest_child_by_primary_metric                                                NaN   \n\n                                        ...  \\\nroot_mean_squared_log_error             ...   \nnormalized_root_mean_squared_error      ...   \nr2_score                                ...   \nmedian_absolute_error                   ...   \nspearman_correlation                    ...   \nroot_mean_squared_error                 ...   \nnormalized_root_mean_squared_log_error  ...   \nmean_absolute_percentage_error          ...   \nexplained_variance                      ...   \nnormalized_mean_absolute_error          ...   \nmean_absolute_error                     ...   \nnormalized_median_absolute_error        ...   \nbest_child_by_primary_metric            ...   \n\n                                       7220258f-2ede-4f25-80fd-9bbfc545338f_513  \\\nroot_mean_squared_log_error                               [0.04090060988065385]   \nnormalized_root_mean_squared_error                       [0.011095778708598377]   \nr2_score                                                   [0.9768494733706874]   \nmedian_absolute_error                                       [7.807208986303564]   \nspearman_correlation                                       [0.9760082877862322]   \nroot_mean_squared_error                                    [15.489543025545405]   \nnormalized_root_mean_squared_log_error                  [0.0059437007685984675]   \nmean_absolute_percentage_error                             [3.0659356527349604]   \nexplained_variance                                         [0.9790485209796053]   \nnormalized_mean_absolute_error                           [0.007856015394657998]   \nmean_absolute_error                                        [10.966881339351582]   \nnormalized_median_absolute_error                         [0.005592615811902221]   \nbest_child_by_primary_metric                                                NaN   \n\n                                       7220258f-2ede-4f25-80fd-9bbfc545338f_523  \\\nroot_mean_squared_log_error                               [0.06468948993354291]   \nnormalized_root_mean_squared_error                       [0.018720094551770573]   \nr2_score                                                   [0.9341036473216789]   \nmedian_absolute_error                                       [13.06826164527321]   \nspearman_correlation                                       [0.9641157375981015]   \nroot_mean_squared_error                                    [26.132975216712573]   \nnormalized_root_mean_squared_log_error                   [0.009400714858780369]   \nmean_absolute_percentage_error                              [5.075321139364261]   \nexplained_variance                                         [0.9434467767037318]   \nnormalized_mean_absolute_error                           [0.013028066851675551]   \nmean_absolute_error                                         [18.18698870430173]   \nnormalized_median_absolute_error                         [0.009361318089428243]   \nbest_child_by_primary_metric                                                NaN   \n\n                                       7220258f-2ede-4f25-80fd-9bbfc545338f_527  \\\nroot_mean_squared_log_error                                 [0.055014883502266]   \nnormalized_root_mean_squared_error                        [0.01637937684834232]   \nr2_score                                                   [0.9495524532421118]   \nmedian_absolute_error                                       [9.058469511353508]   \nspearman_correlation                                       [0.9753179438440529]   \nroot_mean_squared_error                                    [22.865367910358163]   \nnormalized_root_mean_squared_log_error                   [0.007994795341950196]   \nmean_absolute_percentage_error                              [4.030313774406934]   \nexplained_variance                                         [0.9531805824024698]   \nnormalized_mean_absolute_error                              [0.010683591487535]   \nmean_absolute_error                                        [14.914135759150158]   \nnormalized_median_absolute_error                         [0.006488943732607289]   \nbest_child_by_primary_metric                                                NaN   \n\n                                       7220258f-2ede-4f25-80fd-9bbfc545338f_530  \\\nroot_mean_squared_log_error                               [0.16025065743380448]   \nnormalized_root_mean_squared_error                        [0.03087587284144023]   \nr2_score                                                   [0.8207398362611716]   \nmedian_absolute_error                                      [27.762467993120396]   \nspearman_correlation                                       [0.9567689541432975]   \nroot_mean_squared_error                                     [43.10226198528525]   \nnormalized_root_mean_squared_log_error                   [0.023287720122927583]   \nmean_absolute_percentage_error                             [13.396186333109098]   \nexplained_variance                                         [0.8614983108376429]   \nnormalized_mean_absolute_error                           [0.025013233988092243]   \nmean_absolute_error                                         [34.91810482542793]   \nnormalized_median_absolute_error                         [0.019887365350170653]   \nbest_child_by_primary_metric                                                NaN   \n\n                                                  7220258f-2ede-4f25-80fd-9bbfc545338f_HD  \\\nroot_mean_squared_log_error                                                           NaN   \nnormalized_root_mean_squared_error                                                    NaN   \nr2_score                                                                              NaN   \nmedian_absolute_error                                                                 NaN   \nspearman_correlation                                                                  NaN   \nroot_mean_squared_error                                                               NaN   \nnormalized_root_mean_squared_log_error                                                NaN   \nmean_absolute_percentage_error                                                        NaN   \nexplained_variance                                                                    NaN   \nnormalized_mean_absolute_error                                                        NaN   \nmean_absolute_error                                                                   NaN   \nnormalized_median_absolute_error                                                      NaN   \nbest_child_by_primary_metric            {'metric_name': ['normalized_root_mean_squared...   \n\n                                       7220258f-2ede-4f25-80fd-9bbfc545338f_529  \\\nroot_mean_squared_log_error                               [0.06217382600898403]   \nnormalized_root_mean_squared_error                        [0.01914972108434034]   \nr2_score                                                    [0.931044294348647]   \nmedian_absolute_error                                      [10.159755116305973]   \nspearman_correlation                                       [0.9768823158170494]   \nroot_mean_squared_error                                    [26.732727504129624]   \nnormalized_root_mean_squared_log_error                     [0.0090351370924447]   \nmean_absolute_percentage_error                              [4.971428166529569]   \nexplained_variance                                         [0.9540161543469914]   \nnormalized_mean_absolute_error                           [0.013251734129563732]   \nmean_absolute_error                                        [18.499224917301444]   \nnormalized_median_absolute_error                         [0.007277838624300659]   \nbest_child_by_primary_metric                                                NaN   \n\n                                       7220258f-2ede-4f25-80fd-9bbfc545338f_534  \\\nroot_mean_squared_log_error                               [0.08303076508461076]   \nnormalized_root_mean_squared_error                       [0.024920327989261932]   \nr2_score                                                   [0.8832242112331642]   \nmedian_absolute_error                                      [19.990152654757935]   \nspearman_correlation                                        [0.975832346543415]   \nroot_mean_squared_error                                     [34.78840942468078]   \nnormalized_root_mean_squared_log_error                   [0.012066079789293116]   \nmean_absolute_percentage_error                               [7.27359392736593]   \nexplained_variance                                         [0.9436651012585342]   \nnormalized_mean_absolute_error                           [0.018973746704457534]   \nmean_absolute_error                                        [26.487069871603467]   \nnormalized_median_absolute_error                         [0.014319745252812863]   \nbest_child_by_primary_metric                                                NaN   \n\n                                       7220258f-2ede-4f25-80fd-9bbfc545338f_543  \\\nroot_mean_squared_log_error                              [0.038191334337718576]   \nnormalized_root_mean_squared_error                       [0.010471837567700195]   \nr2_score                                                   [0.9793798844022029]   \nmedian_absolute_error                                       [6.180425065838847]   \nspearman_correlation                                       [0.9768215863489681]   \nroot_mean_squared_error                                    [14.618530417853348]   \nnormalized_root_mean_squared_log_error                   [0.005549987247605074]   \nmean_absolute_percentage_error                               [2.81368113354528]   \nexplained_variance                                         [0.9793894168651055]   \nnormalized_mean_absolute_error                           [0.007131316560418229]   \nmean_absolute_error                                         [9.955212481462338]   \nnormalized_median_absolute_error                         [0.004427285475273583]   \nbest_child_by_primary_metric                                                NaN   \n\n                                       7220258f-2ede-4f25-80fd-9bbfc545338f_519  \\\nroot_mean_squared_log_error                               [0.07604882007129704]   \nnormalized_root_mean_squared_error                       [0.023367103845076835]   \nr2_score                                                   [0.8973272773634865]   \nmedian_absolute_error                                       [19.61885724177732]   \nspearman_correlation                                       [0.9720720184505188]   \nroot_mean_squared_error                                     [32.62013148389711]   \nnormalized_root_mean_squared_log_error                   [0.011051459419009249]   \nmean_absolute_percentage_error                              [6.466998219486023]   \nexplained_variance                                         [0.9346576319688356]   \nnormalized_mean_absolute_error                            [0.01736662092737453]   \nmean_absolute_error                                         [24.24354604823273]   \nnormalized_median_absolute_error                         [0.014053771509678147]   \nbest_child_by_primary_metric                                                NaN   \n\n                                       7220258f-2ede-4f25-80fd-9bbfc545338f_524  \nroot_mean_squared_log_error                              [0.053291803295814816]  \nnormalized_root_mean_squared_error                       [0.016284175919371046]  \nr2_score                                                   [0.9501371758801472]  \nmedian_absolute_error                                       [9.410480335430123]  \nspearman_correlation                                       [0.9693422375961424]  \nroot_mean_squared_error                                    [22.732468821064888]  \nnormalized_root_mean_squared_log_error                   [0.007744396309336138]  \nmean_absolute_percentage_error                              [4.090323607319915]  \nexplained_variance                                         [0.9564303258673706]  \nnormalized_mean_absolute_error                           [0.010603090128129914]  \nmean_absolute_error                                        [14.801757051637392]  \nnormalized_median_absolute_error                         [0.006741103154001706]  \nbest_child_by_primary_metric                                                NaN  \n\n[13 rows x 43 columns]",
            "text/html": "<div>\n<style scoped>\n    .dataframe tbody tr th:only-of-type {\n        vertical-align: middle;\n    }\n\n    .dataframe tbody tr th {\n        vertical-align: top;\n    }\n\n    .dataframe thead th {\n        text-align: right;\n    }\n</style>\n<table border=\"1\" class=\"dataframe\">\n  <thead>\n    <tr style=\"text-align: right;\">\n      <th></th>\n      <th>7220258f-2ede-4f25-80fd-9bbfc545338f_533</th>\n      <th>7220258f-2ede-4f25-80fd-9bbfc545338f_540</th>\n      <th>7220258f-2ede-4f25-80fd-9bbfc545338f_538</th>\n      <th>7220258f-2ede-4f25-80fd-9bbfc545338f_532</th>\n      <th>7220258f-2ede-4f25-80fd-9bbfc545338f_536</th>\n      <th>7220258f-2ede-4f25-80fd-9bbfc545338f_535</th>\n      <th>7220258f-2ede-4f25-80fd-9bbfc545338f_539</th>\n      <th>7220258f-2ede-4f25-80fd-9bbfc545338f_516</th>\n      <th>7220258f-2ede-4f25-80fd-9bbfc545338f_515</th>\n      <th>7220258f-2ede-4f25-80fd-9bbfc545338f_520</th>\n      <th>...</th>\n      <th>7220258f-2ede-4f25-80fd-9bbfc545338f_513</th>\n      <th>7220258f-2ede-4f25-80fd-9bbfc545338f_523</th>\n      <th>7220258f-2ede-4f25-80fd-9bbfc545338f_527</th>\n      <th>7220258f-2ede-4f25-80fd-9bbfc545338f_530</th>\n      <th>7220258f-2ede-4f25-80fd-9bbfc545338f_HD</th>\n      <th>7220258f-2ede-4f25-80fd-9bbfc545338f_529</th>\n      <th>7220258f-2ede-4f25-80fd-9bbfc545338f_534</th>\n      <th>7220258f-2ede-4f25-80fd-9bbfc545338f_543</th>\n      <th>7220258f-2ede-4f25-80fd-9bbfc545338f_519</th>\n      <th>7220258f-2ede-4f25-80fd-9bbfc545338f_524</th>\n    </tr>\n  </thead>\n  <tbody>\n    <tr>\n      <th>root_mean_squared_log_error</th>\n      <td>[0.07848353302136687]</td>\n      <td>[0.08357895502311653]</td>\n      <td>[0.06456493932250297]</td>\n      <td>[0.05043756106543137]</td>\n      <td>[0.04986006163281597]</td>\n      <td>[0.04191588481904112]</td>\n      <td>[0.04282669232651981]</td>\n      <td>[0.041916931158099115]</td>\n      <td>[0.042045225764817284]</td>\n      <td>[0.042485009537901734]</td>\n      <td>...</td>\n      <td>[0.04090060988065385]</td>\n      <td>[0.06468948993354291]</td>\n      <td>[0.055014883502266]</td>\n      <td>[0.16025065743380448]</td>\n      <td>NaN</td>\n      <td>[0.06217382600898403]</td>\n      <td>[0.08303076508461076]</td>\n      <td>[0.038191334337718576]</td>\n      <td>[0.07604882007129704]</td>\n      <td>[0.053291803295814816]</td>\n    </tr>\n    <tr>\n      <th>normalized_root_mean_squared_error</th>\n      <td>[0.028070531758493566]</td>\n      <td>[0.018273237921762712]</td>\n      <td>[0.01979347483976125]</td>\n      <td>[0.014844063435639794]</td>\n      <td>[0.014012633203979944]</td>\n      <td>[0.011352645103402876]</td>\n      <td>[0.012346696230134532]</td>\n      <td>[0.011352856972728595]</td>\n      <td>[0.011365945060591338]</td>\n      <td>[0.011670720592553344]</td>\n      <td>...</td>\n      <td>[0.011095778708598377]</td>\n      <td>[0.018720094551770573]</td>\n      <td>[0.01637937684834232]</td>\n      <td>[0.03087587284144023]</td>\n      <td>NaN</td>\n      <td>[0.01914972108434034]</td>\n      <td>[0.024920327989261932]</td>\n      <td>[0.010471837567700195]</td>\n      <td>[0.023367103845076835]</td>\n      <td>[0.016284175919371046]</td>\n    </tr>\n    <tr>\n      <th>r2_score</th>\n      <td>[0.8518346739328778]</td>\n      <td>[0.9372120477708178]</td>\n      <td>[0.9263302174077445]</td>\n      <td>[0.958566568328075]</td>\n      <td>[0.9630780347275814]</td>\n      <td>[0.9757652008665804]</td>\n      <td>[0.9713353378246903]</td>\n      <td>[0.975764296291758]</td>\n      <td>[0.975708384046759]</td>\n      <td>[0.974388167965344]</td>\n      <td>...</td>\n      <td>[0.9768494733706874]</td>\n      <td>[0.9341036473216789]</td>\n      <td>[0.9495524532421118]</td>\n      <td>[0.8207398362611716]</td>\n      <td>NaN</td>\n      <td>[0.931044294348647]</td>\n      <td>[0.8832242112331642]</td>\n      <td>[0.9793798844022029]</td>\n      <td>[0.8973272773634865]</td>\n      <td>[0.9501371758801472]</td>\n    </tr>\n    <tr>\n      <th>median_absolute_error</th>\n      <td>[10.2775778155914]</td>\n      <td>[19.26534331886947]</td>\n      <td>[12.01598719399999]</td>\n      <td>[9.444469984055331]</td>\n      <td>[9.806826711460545]</td>\n      <td>[8.242229858700327]</td>\n      <td>[7.237140057226227]</td>\n      <td>[8.2425580289066]</td>\n      <td>[8.06241685886532]</td>\n      <td>[8.662059182564406]</td>\n      <td>...</td>\n      <td>[7.807208986303564]</td>\n      <td>[13.06826164527321]</td>\n      <td>[9.058469511353508]</td>\n      <td>[27.762467993120396]</td>\n      <td>NaN</td>\n      <td>[10.159755116305973]</td>\n      <td>[19.990152654757935]</td>\n      <td>[6.180425065838847]</td>\n      <td>[19.61885724177732]</td>\n      <td>[9.410480335430123]</td>\n    </tr>\n    <tr>\n      <th>spearman_correlation</th>\n      <td>[0.9722634907097637]</td>\n      <td>[0.9698281713285464]</td>\n      <td>[0.9725975343027116]</td>\n      <td>[0.975554035561938]</td>\n      <td>[0.9754438609652412]</td>\n      <td>[0.9757344097929244]</td>\n      <td>[0.9765649327197362]</td>\n      <td>[0.9757344097929244]</td>\n      <td>[0.9766477333619118]</td>\n      <td>[0.9764560187665963]</td>\n      <td>...</td>\n      <td>[0.9760082877862322]</td>\n      <td>[0.9641157375981015]</td>\n      <td>[0.9753179438440529]</td>\n      <td>[0.9567689541432975]</td>\n      <td>NaN</td>\n      <td>[0.9768823158170494]</td>\n      <td>[0.975832346543415]</td>\n      <td>[0.9768215863489681]</td>\n      <td>[0.9720720184505188]</td>\n      <td>[0.9693422375961424]</td>\n    </tr>\n    <tr>\n      <th>root_mean_squared_error</th>\n      <td>[39.18604731060366]</td>\n      <td>[25.50916996801982]</td>\n      <td>[27.631398228764887]</td>\n      <td>[20.722093085913077]</td>\n      <td>[19.56142877525459]</td>\n      <td>[15.84812471490965]</td>\n      <td>[17.235805390730093]</td>\n      <td>[15.848420481355856]</td>\n      <td>[15.866691258504193]</td>\n      <td>[16.292153395001264]</td>\n      <td>...</td>\n      <td>[15.489543025545405]</td>\n      <td>[26.132975216712573]</td>\n      <td>[22.865367910358163]</td>\n      <td>[43.10226198528525]</td>\n      <td>NaN</td>\n      <td>[26.732727504129624]</td>\n      <td>[34.78840942468078]</td>\n      <td>[14.618530417853348]</td>\n      <td>[32.62013148389711]</td>\n      <td>[22.732468821064888]</td>\n    </tr>\n    <tr>\n      <th>normalized_root_mean_squared_log_error</th>\n      <td>[0.011405273341952528]</td>\n      <td>[0.012145743074714586]</td>\n      <td>[0.009382615090470614]</td>\n      <td>[0.007329616143759176]</td>\n      <td>[0.007245693585354372]</td>\n      <td>[0.006091241121890008]</td>\n      <td>[0.006223600206462168]</td>\n      <td>[0.006091393176499497]</td>\n      <td>[0.006110037024471028]</td>\n      <td>[0.006173946661948967]</td>\n      <td>...</td>\n      <td>[0.0059437007685984675]</td>\n      <td>[0.009400714858780369]</td>\n      <td>[0.007994795341950196]</td>\n      <td>[0.023287720122927583]</td>\n      <td>NaN</td>\n      <td>[0.0090351370924447]</td>\n      <td>[0.012066079789293116]</td>\n      <td>[0.005549987247605074]</td>\n      <td>[0.011051459419009249]</td>\n      <td>[0.007744396309336138]</td>\n    </tr>\n    <tr>\n      <th>mean_absolute_percentage_error</th>\n      <td>[5.647826170264447]</td>\n      <td>[6.995644058764874]</td>\n      <td>[5.174099161381299]</td>\n      <td>[3.8753925218536645]</td>\n      <td>[3.9772442421778305]</td>\n      <td>[3.1510364790585044]</td>\n      <td>[3.153323643084894]</td>\n      <td>[3.151119097710324]</td>\n      <td>[3.3617138793259618]</td>\n      <td>[3.373678096303097]</td>\n      <td>...</td>\n      <td>[3.0659356527349604]</td>\n      <td>[5.075321139364261]</td>\n      <td>[4.030313774406934]</td>\n      <td>[13.396186333109098]</td>\n      <td>NaN</td>\n      <td>[4.971428166529569]</td>\n      <td>[7.27359392736593]</td>\n      <td>[2.81368113354528]</td>\n      <td>[6.466998219486023]</td>\n      <td>[4.090323607319915]</td>\n    </tr>\n    <tr>\n      <th>explained_variance</th>\n      <td>[0.8772336115922973]</td>\n      <td>[0.9502888789971928]</td>\n      <td>[0.9480252989998994]</td>\n      <td>[0.9632435919960599]</td>\n      <td>[0.9704778144186459]</td>\n      <td>[0.9788339593032429]</td>\n      <td>[0.9736368860494893]</td>\n      <td>[0.9788333367605832]</td>\n      <td>[0.9774538691028084]</td>\n      <td>[0.9764142641953599]</td>\n      <td>...</td>\n      <td>[0.9790485209796053]</td>\n      <td>[0.9434467767037318]</td>\n      <td>[0.9531805824024698]</td>\n      <td>[0.8614983108376429]</td>\n      <td>NaN</td>\n      <td>[0.9540161543469914]</td>\n      <td>[0.9436651012585342]</td>\n      <td>[0.9793894168651055]</td>\n      <td>[0.9346576319688356]</td>\n      <td>[0.9564303258673706]</td>\n    </tr>\n    <tr>\n      <th>normalized_mean_absolute_error</th>\n      <td>[0.01608388170230386]</td>\n      <td>[0.01494778926633853]</td>\n      <td>[0.013813753272548867]</td>\n      <td>[0.01007164433657638]</td>\n      <td>[0.010009894356877966]</td>\n      <td>[0.008088106713412379]</td>\n      <td>[0.008108150477485115]</td>\n      <td>[0.008088310032934795]</td>\n      <td>[0.008230954040117837]</td>\n      <td>[0.008343441957966302]</td>\n      <td>...</td>\n      <td>[0.007856015394657998]</td>\n      <td>[0.013028066851675551]</td>\n      <td>[0.010683591487535]</td>\n      <td>[0.025013233988092243]</td>\n      <td>NaN</td>\n      <td>[0.013251734129563732]</td>\n      <td>[0.018973746704457534]</td>\n      <td>[0.007131316560418229]</td>\n      <td>[0.01736662092737453]</td>\n      <td>[0.010603090128129914]</td>\n    </tr>\n    <tr>\n      <th>mean_absolute_error</th>\n      <td>[22.452861055399378]</td>\n      <td>[20.86689281197678]</td>\n      <td>[19.283795331426806]</td>\n      <td>[14.059866584081975]</td>\n      <td>[13.97366452539961]</td>\n      <td>[11.290877388850634]</td>\n      <td>[11.318858187148091]</td>\n      <td>[11.291161219897836]</td>\n      <td>[11.49029014492639]</td>\n      <td>[11.647321615103207]</td>\n      <td>...</td>\n      <td>[10.966881339351582]</td>\n      <td>[18.18698870430173]</td>\n      <td>[14.914135759150158]</td>\n      <td>[34.91810482542793]</td>\n      <td>NaN</td>\n      <td>[18.499224917301444]</td>\n      <td>[26.487069871603467]</td>\n      <td>[9.955212481462338]</td>\n      <td>[24.24354604823273]</td>\n      <td>[14.801757051637392]</td>\n    </tr>\n    <tr>\n      <th>normalized_median_absolute_error</th>\n      <td>[0.007362239732581566]</td>\n      <td>[0.013800535358519588]</td>\n      <td>[0.008607531845845482]</td>\n      <td>[0.006765451297707841]</td>\n      <td>[0.007025021903130435]</td>\n      <td>[0.005904238648403941]</td>\n      <td>[0.00518425265520625]</td>\n      <td>[0.005904473729838013]</td>\n      <td>[0.005775431410397755]</td>\n      <td>[0.006204979171561645]</td>\n      <td>...</td>\n      <td>[0.005592615811902221]</td>\n      <td>[0.009361318089428243]</td>\n      <td>[0.006488943732607289]</td>\n      <td>[0.019887365350170653]</td>\n      <td>NaN</td>\n      <td>[0.007277838624300659]</td>\n      <td>[0.014319745252812863]</td>\n      <td>[0.004427285475273583]</td>\n      <td>[0.014053771509678147]</td>\n      <td>[0.006741103154001706]</td>\n    </tr>\n    <tr>\n      <th>best_child_by_primary_metric</th>\n      <td>NaN</td>\n      <td>NaN</td>\n      <td>NaN</td>\n      <td>NaN</td>\n      <td>NaN</td>\n      <td>NaN</td>\n      <td>NaN</td>\n      <td>NaN</td>\n      <td>NaN</td>\n      <td>NaN</td>\n      <td>...</td>\n      <td>NaN</td>\n      <td>NaN</td>\n      <td>NaN</td>\n      <td>NaN</td>\n      <td>{'metric_name': ['normalized_root_mean_squared...</td>\n      <td>NaN</td>\n      <td>NaN</td>\n      <td>NaN</td>\n      <td>NaN</td>\n      <td>NaN</td>\n    </tr>\n  </tbody>\n</table>\n<p>13 rows × 43 columns</p>\n</div>"
          },
          "metadata": {}
        }
      ],
      "execution_count": 20,
      "metadata": {
        "collapsed": true,
        "jupyter": {
          "source_hidden": false,
          "outputs_hidden": false
        },
        "nteract": {
          "transient": {
            "deleting": false
          }
        },
        "gather": {
          "logged": 1629168638425
        }
      }
    },
    {
      "cell_type": "markdown",
      "source": [
        "Here we will examine the best model performance."
      ],
      "metadata": {
        "nteract": {
          "transient": {
            "deleting": false
          }
        }
      }
    },
    {
      "cell_type": "code",
      "source": [
        "list_of_lists = metric_df.loc['mean_absolute_percentage_error',:].values \r\n",
        "\r\n",
        "MAPE_list = []\r\n",
        "for x in zip(list_of_lists[0]):\r\n",
        "    if x is np.nan:\r\n",
        "        next\r\n",
        "    else:\r\n",
        "        MAPE_list.append(x[0])   \r\n",
        "\r\n",
        "print('Minimum MAPE:', pd.Series(MAPE_list).min())"
      ],
      "outputs": [
        {
          "output_type": "stream",
          "name": "stdout",
          "text": [
            "Minimum MAPE: 5.647826170264447\n"
          ]
        }
      ],
      "execution_count": 21,
      "metadata": {
        "collapsed": true,
        "jupyter": {
          "source_hidden": false,
          "outputs_hidden": false
        },
        "nteract": {
          "transient": {
            "deleting": false
          }
        },
        "gather": {
          "logged": 1629168687024
        }
      }
    },
    {
      "cell_type": "markdown",
      "source": [
        "Then we can save the best model to our files and review it by printing its steps."
      ],
      "metadata": {
        "nteract": {
          "transient": {
            "deleting": false
          }
        }
      }
    },
    {
      "cell_type": "code",
      "source": [
        "# Model\r\n",
        "best_model_output_name='best_model_output'\r\n",
        "best_model_output = run.get_pipeline_output(best_model_output_name)\r\n",
        "best_model_output.download('./automl_model', show_progress=True)\r\n"
      ],
      "outputs": [
        {
          "output_type": "stream",
          "name": "stderr",
          "text": [
            "Path already exists. Skipping download for ./automl_model/azureml/7220258f-2ede-4f25-80fd-9bbfc545338f/model_data\n"
          ]
        },
        {
          "output_type": "execute_result",
          "execution_count": 4,
          "data": {
            "text/plain": "0"
          },
          "metadata": {}
        }
      ],
      "execution_count": 4,
      "metadata": {
        "collapsed": true,
        "jupyter": {
          "source_hidden": false,
          "outputs_hidden": false
        },
        "nteract": {
          "transient": {
            "deleting": false
          }
        },
        "gather": {
          "logged": 1629217187667
        }
      }
    },
    {
      "cell_type": "code",
      "source": [
        "# If the path on the datastore doesn't load for some reason you can manually find where the download occurred in your workspace and use it\r\n",
        "model_path = './automl_model/' + str(best_model_output._path_on_datastore)\r\n",
        "with open(model_path, \"rb\" ) as f:\r\n",
        "    best_model = joblib.load(f)\r\n",
        "\r\n",
        "print(best_model)\r\n",
        "print('\\n')\r\n",
        "print(best_model.steps)"
      ],
      "outputs": [
        {
          "output_type": "stream",
          "name": "stdout",
          "text": [
            "ForecastingPipelineWrapper(pipeline=Pipeline(memory=None,\n",
            "                                             steps=[('timeseriestransformer',\n",
            "                                                     TimeSeriesTransformer(country_or_region=None, drop_column_names=[], featurization_config=FeaturizationConfig(\n",
            "    blocked_transformers=None,\n",
            "    column_purposes=None,\n",
            "    transformer_params=None,\n",
            "    dataset_language=None,\n",
            "    drop_columns=None\n",
            "), force_time_index_features=None, freq='D', gr...\n",
            "    timeseries_param_dict={'time_column_name': 'Date', 'grain_column_names': None, 'drop_column_names': [], 'overwrite_columns': True, 'dropna': False, 'transform_dictionary': {'min': '_automl_target_col', 'max': '_automl_target_col', 'mean': '_automl_target_col'}, 'max_horizon': 1, 'origin_time_colname': 'origin', 'country_or_region': None, 'n_cross_validations': None, 'short_series_handling': True, 'max_cores_per_iteration': 1, 'feature_lags': None, 'target_aggregation_function': None, 'seasonality': 7, 'use_stl': None, 'freq': <Day>, 'short_series_handling_configuration': 'auto', 'target_lags': [0], 'target_rolling_window_size': 0, 'arimax_raw_columns': ['LowPrevDay_BTC', 'VolumePrevDay_ETH', 'HighPrevDay_ETH', 'MarketcapPrevDay_ETH', 'Date', 'HighPrevDay_BTC', 'VolumePrevDay_BTC', 'LowPrevDay_ETH', 'Open_BTC', 'Open_ETH', 'MarketcapPrevDay_BTC']},\n",
            "    gpu_training_param_dict={'processing_unit_type': 'cpu'}\n",
            "), random_state=0, tree_method='auto'))], verbose=False))], weights=[0.2, 0.06666666666666667, 0.06666666666666667, 0.26666666666666666, 0.13333333333333333, 0.13333333333333333, 0.06666666666666667, 0.06666666666666667]))],\n",
            "                                             verbose=False),\n",
            "                           stddev=[14.61515103069519])\n",
            "\n",
            "\n",
            "[('timeseriestransformer', TimeSeriesTransformer(\n",
            "    pipeline_type=TimeSeriesPipelineType.FULL,\n",
            "    max_horizon=1,\n",
            "    use_stl=None,\n",
            "    seasonality=7,\n",
            "    force_time_index_features=None,\n",
            "    grain_column_names=['_automl_dummy_grain_col'],\n",
            "    drop_column_names=[],\n",
            "    origin_time_colname='origin',\n",
            "    group=None,\n",
            "    country_or_region=None,\n",
            "    freq='D',\n",
            "    time_column_name='Date',\n",
            "    pipeline=Pipeline(\n",
            "        memory=None,\n",
            "        steps=[('make_numeric_na_dummies', MissingDummiesTransformer(\n",
            "            numerical_columns=['Open_ETH', 'Open_BTC', 'LowPrevDay_BTC', 'LowPrevDay_ETH', 'HighPrevDay_BTC', 'HighPrevDay_ETH', 'VolumePrevDay_BTC', 'VolumePrevDay_ETH', 'MarketcapPrevDay_BTC', 'MarketcapPrevDay_ETH']\n",
            "        )), ('impute_na_numeric_datetime', TimeSeriesImputer(\n",
            "            end=None,\n",
            "            freq='D',\n",
            "            impute_by_horizon=False,\n",
            "            input_column=['Open_ETH', 'Open_BTC', 'LowPrevDay_BTC', 'LowPrevDay_ETH', 'HighPrevDay_BTC', 'HighPrevDay_ETH', 'VolumePrevDay_BTC', 'VolumePrevDay_ETH', 'MarketcapPrevDay_BTC', 'MarketcapPrevDay_ETH'],\n",
            "            limit=None,\n",
            "            limit_direction='forward',\n",
            "            method=OrderedDict([('ffill', [])]),\n",
            "            option='fillna',\n",
            "            order=None,\n",
            "            origin=None,\n",
            "            value={'Open_ETH': 155.286408885, 'Open_BTC': 4066.10009765625, 'LowPrevDay_BTC': 3970.550048828125, 'LowPrevDay_ETH': 150.2779998779297, 'HighPrevDay_BTC': 4113.50083216, 'HighPrevDay_ETH': 160.58941734200002, 'VolumePrevDay_BTC': 3672860000.0, 'VolumePrevDay_ETH': 1377760000.0, 'MarketcapPrevDay_BTC': 69963847482.2, 'MarketcapPrevDay_ETH': 16343573972.6015}\n",
            "        )), ('grain_dropper', ShortGrainDropper()), ('restore_dtypes_transform', RestoreDtypesTransformer(\n",
            "            target_column='_automl_target_col',\n",
            "            dtypes={'LowPrevDay_BTC': dtype('float64'), 'VolumePrevDay_ETH': dtype('float64'), 'HighPrevDay_ETH': dtype('float64'), '_automl_target_col': dtype('float64'), 'MarketcapPrevDay_ETH': dtype('float64'), 'HighPrevDay_BTC': dtype('float64'), 'VolumePrevDay_BTC': dtype('float64'), 'LowPrevDay_ETH': dtype('float64'), 'Open_BTC': dtype('float64'), 'Open_ETH': dtype('float64'), 'MarketcapPrevDay_BTC': dtype('float64')}\n",
            "        )), ('make_categoricals_numeric', NumericalizeTransformer(\n",
            "            include_columns=set(),\n",
            "            exclude_columns=set(),\n",
            "            categories_by_col={}\n",
            "        )), ('make_time_index_featuers', TimeIndexFeaturizer(\n",
            "            correlation_cutoff=0.99,\n",
            "            country_or_region=None,\n",
            "            datetime_columns=None,\n",
            "            force_feature_list=None,\n",
            "            freq='D',\n",
            "            overwrite_columns=True,\n",
            "            prune_features=True\n",
            "        )), ('make_categoricals_onehot', CategoryBinarizer(\n",
            "            columns=[],\n",
            "            drop_first=False,\n",
            "            dummy_na=False,\n",
            "            encode_all_categoricals=False,\n",
            "            prefix=None,\n",
            "            prefix_sep='_'\n",
            "        ))],\n",
            "        verbose=False\n",
            "    ),\n",
            "    featurization_config=FeaturizationConfig(\n",
            "        blocked_transformers=None,\n",
            "        column_purposes=None,\n",
            "        transformer_params=None,\n",
            "        dataset_language=None,\n",
            "        drop_columns=None\n",
            "    ),\n",
            "    time_index_non_holiday_features=['_automl_year', '_automl_half', '_automl_quarter', '_automl_month', '_automl_day', '_automl_wday', '_automl_qday', '_automl_week'],\n",
            "    lookback_features_removed=False\n",
            ")), ('prefittedsoftvotingregressor', PreFittedSoftVotingRegressor(\n",
            "    estimators=[('525', Pipeline(memory=None,\n",
            "             steps=[('standardscalerwrapper',\n",
            "                     StandardScalerWrapper(\n",
            "        copy=True,\n",
            "        with_mean=False,\n",
            "        with_std=True\n",
            "    )),\n",
            "                    ('elasticnet',\n",
            "                     ElasticNet(alpha=0.001, copy_X=True, fit_intercept=True,\n",
            "                                l1_ratio=0.2705263157894737, max_iter=1000,\n",
            "                                normalize=False, positive=False, precompute=False,\n",
            "                                random_state=None, selection='cyclic', tol=0.0001,\n",
            "                                warm_start=False))],\n",
            "             verbose=False)), ('513', Pipeline(memory=None,\n",
            "             steps=[('standardscalerwrapper',\n",
            "                     StandardScalerWrapper(\n",
            "        copy=True,\n",
            "        with_mean=False,\n",
            "        with_std=True\n",
            "    )),\n",
            "                    ('elasticnet',\n",
            "                     ElasticNet(alpha=0.001, copy_X=True, fit_intercept=True,\n",
            "                                l1_ratio=0.8436842105263158, max_iter=1000,\n",
            "                                normalize=False, positive=False, precompute=False,\n",
            "                                random_state=None, selection='cyclic', tol=0.0001,\n",
            "                                warm_start=False))],\n",
            "             verbose=False)), ('511', Pipeline(memory=None,\n",
            "             steps=[('robustscaler',\n",
            "                     RobustScaler(copy=True, quantile_range=[10, 90],\n",
            "                                  with_centering=True, with_scaling=False)),\n",
            "                    ('elasticnet',\n",
            "                     ElasticNet(alpha=0.001, copy_X=True, fit_intercept=True,\n",
            "                                l1_ratio=0.21842105263157896, max_iter=1000,\n",
            "                                normalize=False, positive=False, precompute=False,\n",
            "                                random_state=None, selection='cyclic', tol=0.0001,\n",
            "                                warm_start=False))],\n",
            "             verbose=False)), ('517', Pipeline(memory=None,\n",
            "             steps=[('maxabsscaler', MaxAbsScaler(copy=True)),\n",
            "                    ('elasticnet',\n",
            "                     ElasticNet(alpha=0.001, copy_X=True, fit_intercept=True,\n",
            "                                l1_ratio=1, max_iter=1000, normalize=False,\n",
            "                                positive=False, precompute=False, random_state=None,\n",
            "                                selection='cyclic', tol=0.0001,\n",
            "                                warm_start=False))],\n",
            "             verbose=False)), ('515', Pipeline(memory=None,\n",
            "             steps=[('maxabsscaler', MaxAbsScaler(copy=True)),\n",
            "                    ('elasticnet',\n",
            "                     ElasticNet(alpha=0.001, copy_X=True, fit_intercept=True,\n",
            "                                l1_ratio=0.8436842105263158, max_iter=1000,\n",
            "                                normalize=False, positive=False, precompute=False,\n",
            "                                random_state=None, selection='cyclic', tol=0.0001,\n",
            "                                warm_start=False))],\n",
            "             verbose=False)), ('539', Pipeline(memory=None,\n",
            "             steps=[('standardscalerwrapper',\n",
            "                     StandardScalerWrapper(\n",
            "        copy=True,\n",
            "        with_mean=True,\n",
            "        with_std=True\n",
            "    )),\n",
            "                    ('extratreesregressor',\n",
            "                     ExtraTreesRegressor(bootstrap=True, ccp_alpha=0.0,\n",
            "                                         criterion='mse', max_depth=None,\n",
            "                                         max_features=0.4, max_leaf_nodes=None,\n",
            "                                         max_samples=None,\n",
            "                                         min_impurity_decrease=0.0,\n",
            "                                         min_impurity_split=None,\n",
            "                                         min_samples_leaf=0.01091729022778783,\n",
            "                                         min_samples_split=0.00310675990983383,\n",
            "                                         min_weight_fraction_leaf=0.0,\n",
            "                                         n_estimators=50, n_jobs=1, oob_score=False,\n",
            "                                         random_state=None, verbose=0,\n",
            "                                         warm_start=False))],\n",
            "             verbose=False)), ('522', Pipeline(memory=None,\n",
            "             steps=[('minmaxscaler', MinMaxScaler(copy=True, feature_range=(0, 1))),\n",
            "                    ('extratreesregressor',\n",
            "                     ExtraTreesRegressor(bootstrap=False, ccp_alpha=0.0,\n",
            "                                         criterion='mse', max_depth=None,\n",
            "                                         max_features=0.5, max_leaf_nodes=None,\n",
            "                                         max_samples=None,\n",
            "                                         min_impurity_decrease=0.0,\n",
            "                                         min_impurity_split=None,\n",
            "                                         min_samples_leaf=0.005080937188890647,\n",
            "                                         min_samples_split=0.0012814223889440828,\n",
            "                                         min_weight_fraction_leaf=0.0,\n",
            "                                         n_estimators=50, n_jobs=1, oob_score=False,\n",
            "                                         random_state=None, verbose=0,\n",
            "                                         warm_start=False))],\n",
            "             verbose=False)), ('508', Pipeline(memory=None,\n",
            "             steps=[('standardscalerwrapper',\n",
            "                     StandardScalerWrapper(\n",
            "        copy=True,\n",
            "        with_mean=False,\n",
            "        with_std=False\n",
            "    )),\n",
            "                    ('xgboostregressor',\n",
            "                     XGBoostRegressor(n_jobs=1, problem_info=ProblemInfo(\n",
            "        dataset_samples=1727,\n",
            "        dataset_features=29,\n",
            "        dataset_classes=None,\n",
            "        dataset_num_categorical=0,\n",
            "        dataset_categoricals=None,\n",
            "        pipeline_categoricals=None,\n",
            "        dataset_y_std=234.88...\n",
            "        timeseries_param_dict={'time_column_name': 'Date', 'grain_column_names': None, 'drop_column_names': [], 'overwrite_columns': True, 'dropna': False, 'transform_dictionary': {'min': '_automl_target_col', 'max': '_automl_target_col', 'mean': '_automl_target_col'}, 'max_horizon': 1, 'origin_time_colname': 'origin', 'country_or_region': None, 'n_cross_validations': None, 'short_series_handling': True, 'max_cores_per_iteration': 1, 'feature_lags': None, 'target_aggregation_function': None, 'seasonality': 7, 'use_stl': None, 'freq': <Day>, 'short_series_handling_configuration': 'auto', 'target_lags': [0], 'target_rolling_window_size': 0, 'arimax_raw_columns': ['LowPrevDay_BTC', 'VolumePrevDay_ETH', 'HighPrevDay_ETH', 'MarketcapPrevDay_ETH', 'Date', 'HighPrevDay_BTC', 'VolumePrevDay_BTC', 'LowPrevDay_ETH', 'Open_BTC', 'Open_ETH', 'MarketcapPrevDay_BTC']},\n",
            "        gpu_training_param_dict={'processing_unit_type': 'cpu'}\n",
            "    ), random_state=0, tree_method='auto'))],\n",
            "             verbose=False))],\n",
            "    weights=[0.2, 0.06666666666666667, 0.06666666666666667, 0.26666666666666666, 0.13333333333333333, 0.13333333333333333, 0.06666666666666667, 0.06666666666666667]\n",
            "))]\n"
          ]
        }
      ],
      "execution_count": 6,
      "metadata": {
        "collapsed": true,
        "jupyter": {
          "source_hidden": false,
          "outputs_hidden": false
        },
        "nteract": {
          "transient": {
            "deleting": false
          }
        },
        "gather": {
          "logged": 1629217232122
        }
      }
    },
    {
      "cell_type": "markdown",
      "source": [
        "Let's make sure to register this model before proceeding."
      ],
      "metadata": {
        "nteract": {
          "transient": {
            "deleting": false
          }
        }
      }
    },
    {
      "cell_type": "code",
      "source": [
        "run.upload_file(name=model_path, path_or_stream=model_path)\r\n",
        "run.register_model(\r\n",
        "    model_name = 'automl_Ethereum_forecaster', \r\n",
        "    model_path = model_path,\r\n",
        "    description = 'Auto ML training',\r\n",
        "    tags=None)\r\n"
      ],
      "outputs": [
        {
          "output_type": "execute_result",
          "execution_count": 10,
          "data": {
            "text/plain": "Model(workspace=Workspace.create(name='udacity-class', subscription_id=Removed, resource_group=Removed), name=automl_Ethereum_forecaster, id=automl_Ethereum_forecaster:1, version=1, tags={}, properties={})"
          },
          "metadata": {}
        }
      ],
      "execution_count": 10,
      "metadata": {
        "collapsed": true,
        "jupyter": {
          "source_hidden": false,
          "outputs_hidden": false
        },
        "nteract": {
          "transient": {
            "deleting": false
          }
        },
        "gather": {
          "logged": 1629218335021
        }
      }
    },
    {
      "cell_type": "markdown",
      "source": [
        "# Part 2: Deploying a Batch Scoring Pipeline"
      ],
      "metadata": {
        "nteract": {
          "transient": {
            "deleting": false
          }
        }
      }
    },
    {
      "cell_type": "markdown",
      "source": [
        "Once this has all been reviewed the model can be deployed as a published pipeline that takes in batch requests and runs them through the pipeline."
      ],
      "metadata": {
        "nteract": {
          "transient": {
            "deleting": false
          }
        }
      }
    },
    {
      "cell_type": "code",
      "source": [
        "published_pipeline = run.publish_pipeline(name=\"automl-ethereum-forecast-pipeline\", description='capstone project AutoML Ethereum forecaster pipeline', version='1.0')\n",
        "\n",
        "published_pipeline"
      ],
      "outputs": [
        {
          "output_type": "execute_result",
          "execution_count": 24,
          "data": {
           "text/plain":"Removed"
          },
          "metadata": {}
        }
      ],
      "execution_count": 24,
      "metadata": {
        "gather": {
          "logged": 1629168700861
        },
        "jupyter": {
          "outputs_hidden": false,
          "source_hidden": false
        },
        "nteract": {
          "transient": {
            "deleting": false
          }
        },
        "scrolled": false
      }
    },
    {
      "cell_type": "markdown",
      "source": [
        "Finally to test this endpoint we can send a pipeline run request to it to see if it fails or succeeds. Each pipeline run is considered batch scoring, not real-time scoring, though the pipeline is served on an endpoint. The JSON response can be seen in the final cell output."
      ],
      "metadata": {
        "nteract": {
          "transient": {
            "deleting": false
          }
        }
      }
    },
    {
      "cell_type": "code",
      "source": [
        "from azureml.core.authentication import InteractiveLoginAuthentication\r\n",
        "import requests\r\n",
        "\r\n",
        "interactive_auth = InteractiveLoginAuthentication()\r\n",
        "auth_header = interactive_auth.get_authentication_header()\r\n",
        "\r\n",
        "rest_endpoint = published_pipeline.endpoint\r\n",
        "response = requests.post(rest_endpoint, \r\n",
        "                         headers=auth_header, \r\n",
        "                         json={\"ExperimentName\": experiment_name}\r\n",
        "                        )\r\n",
        "\r\n",
        "try:\r\n",
        "    response.raise_for_status()\r\n",
        "except Exception:    \r\n",
        "    raise Exception(\"Received bad response from the endpoint: {}\\n\"\r\n",
        "                    \"Response Code: {}\\n\"\r\n",
        "                    \"Headers: {}\\n\"\r\n",
        "                    \"Content: {}\".format(rest_endpoint, response.status_code, response.headers, response.content))\r\n",
        "\r\n",
        "run_id = response.json().get('Id')\r\n",
        "print('Submitted pipeline run: ', run_id)"
      ],
      "outputs": [
        {
          "output_type": "stream",
          "name": "stdout",
          "text": [
            "Submitted pipeline run:  \n"
          ]
        }
      ],
      "execution_count": 25,
      "metadata": {
        "collapsed": true,
        "jupyter": {
          "source_hidden": false,
          "outputs_hidden": false
        },
        "nteract": {
          "transient": {
            "deleting": false
          }
        },
        "gather": {
          "logged": 1629168701700
        }
      }
    },
    {
      "cell_type": "code",
      "source": [
        "response.json()"
      ],
      "outputs": [
        {
          "output_type": "execute_result",
          "execution_count": 26,
          "data": {
            "text/plain": "{'Description': None,\n 'Status': {'StatusCode': 0,\n  'StatusDetail': None,\n  'CreationTime': '2021-08-17T02:51:40.9310368Z',\n  'EndTime': None},\n 'GraphId': 'eb29aa50-37a5-44c8-b4fb-7e1179810123',\n 'IsSubmitted': False,\n 'HasErrors': False,\n 'HasWarnings': False,\n 'UploadState': 0,\n 'ParameterAssignments': {},\n 'DataPathAssignments': {},\n 'DataSetDefinitionValueAssignments': {},\n 'RunHistoryExperimentName': 'ethereum-forecasting',\n 'DisplayName': None,\n 'PipelineRunId': '451f8e4d-fdb4-4ca5-9950-a3a226f45ebb',\n 'PipelineId': '2febe712-802c-460e-a86b-4b3380077cf0',\n 'PipelineEndpointId': None,\n 'RunSource': 'Unavailable',\n 'RunType': 0,\n 'TotalRunSteps': 1,\n 'ScheduleId': None,\n 'RunUrl': 'https://ml.azure.com/experiments/ethereum-forecasting/runs/451f8e4d-fdb4-4ca5-9950-a3a226f45ebb?tid=fa1a69b7-9b39-4cb7-8701-41985a92e9bb&wsid=/subscriptions/ac401033-05b1-43d5-a5ea-e5dcb9c75b49/resourcegroups/rg-devtest-databricks-01/workspaces/udacity-class',\n 'tags': {},\n 'StepTags': {},\n 'Properties': {},\n 'StepProperties': {},\n 'CreatedBy': {'UserObjectId': '4d281dd6-2532-4ca6-95c9-2d9800df196f',\n  'UserTenantId': 'fa1a69b7-9b39-4cb7-8701-41985a92e9bb',\n  'UserName': 'Taylor Bluth'},\n 'PreserveSubGraphs': True,\n 'EntityStatus': 0,\n 'Id': '451f8e4d-fdb4-4ca5-9950-a3a226f45ebb',\n 'Etag': '\"3c047585-0000-0300-0000-611b243c0000\"',\n 'CreatedDate': '2021-08-17T02:51:40.9312185Z',\n 'LastModifiedDate': '2021-08-17T02:51:40.9312185Z'}"
          },
          "metadata": {}
        }
      ],
      "execution_count": 26,
      "metadata": {
        "collapsed": true,
        "jupyter": {
          "source_hidden": false,
          "outputs_hidden": false
        },
        "nteract": {
          "transient": {
            "deleting": false
          }
        },
        "gather": {
          "logged": 1629168702093
        }
      }
    }
  ],
  "metadata": {
    "kernel_info": {
      "name": "python3"
    },
    "kernelspec": {
      "name": "python3",
      "language": "python",
      "display_name": "Python 3"
    },
    "language_info": {
      "name": "python",
      "version": "3.6.9",
      "mimetype": "text/x-python",
      "codemirror_mode": {
        "name": "ipython",
        "version": 3
      },
      "pygments_lexer": "ipython3",
      "nbconvert_exporter": "python",
      "file_extension": ".py"
    },
    "microsoft": {
      "host": {
        "AzureML": {
          "notebookHasBeenCompleted": true
        }
      }
    },
    "nteract": {
      "version": "nteract-front-end@1.0.0"
    }
  },
  "nbformat": 4,
  "nbformat_minor": 2
}
