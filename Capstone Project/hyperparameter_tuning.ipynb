{
  "cells": [
    {
      "cell_type": "markdown",
      "source": [
        "# Part 1: Build a Model Using HyperDrive"
      ],
      "metadata": {}
    },
    {
      "cell_type": "markdown",
      "source": [
        "In the cell below, all dependencies are imported that are needed for this the project."
      ],
      "metadata": {
        "nteract": {
          "transient": {
            "deleting": false
          }
        }
      }
    },
    {
      "cell_type": "code",
      "source": [
        "# Import all needed Python modules\n",
        "import os\n",
        "import zipfile\n",
        "import numpy as np\n",
        "import pandas as pd\n",
        "import seaborn as sns\n",
        "import matplotlib.pyplot as plt\n",
        "from matplotlib import dates\n",
        "import requests\n",
        "import json\n",
        "import sklearn\n",
        "import joblib\n",
        "import tensorflow\n",
        "from tensorflow.keras.models import load_model\n",
        "\n",
        "import azureml.core\n",
        "from azureml.core.experiment import Experiment\n",
        "from azureml.core.workspace import Workspace\n",
        "from azureml.core.dataset import Dataset\n",
        "from azureml.core.environment import Environment\n",
        "from azureml.data.dataset_factory import TabularDatasetFactory\n",
        "from azureml.core.compute import ComputeTarget, AmlCompute\n",
        "from azureml.core.compute_target import ComputeTargetException\n",
        "from azureml.widgets import RunDetails\n",
        "from azureml.core.runconfig import DockerConfiguration\n",
        "from azureml.core import ScriptRunConfig\n",
        "from azureml.train.hyperdrive.run import PrimaryMetricGoal\n",
        "from azureml.train.hyperdrive.sampling import BayesianParameterSampling\n",
        "from azureml.train.hyperdrive.runconfig import HyperDriveConfig\n",
        "from azureml.train.hyperdrive.parameter_expressions import uniform, choice\n",
        "from azureml.core.run import Run\n",
        "from azureml.core.model import InferenceConfig, Model\n",
        "from azureml.core.conda_dependencies import CondaDependencies \n",
        "from azureml.core.runconfig import DockerConfiguration\n",
        "from azureml.core.webservice import LocalWebservice\n",
        "from azureml.core.webservice.aci import AciWebservice\n",
        "from azureml.core import Webservice\n",
        "\n",
        "\n",
        "# Check core SDK version number\n",
        "print(\"SDK version:\", azureml.core.VERSION)\n",
        "print(\"Tensorflow version\", tensorflow.__version__)"
      ],
      "outputs": [
        {
          "output_type": "stream",
          "name": "stdout",
          "text": [
            "SDK version: 1.32.0\n",
            "Tensorflow version 2.1.0\n"
          ]
        }
      ],
      "execution_count": 1,
      "metadata": {
        "gather": {
          "logged": 1629148283916
        }
      }
    },
    {
      "cell_type": "markdown",
      "source": [
        "I also established objects where all the work is happening, those being:\n",
        "  - 1. Workspace\n",
        "  - 2. Datastore \n",
        "  - 3. Experiment \n",
        "  - 4. Compute target\n",
        "  - 5. Environment "
      ],
      "metadata": {
        "nteract": {
          "transient": {
            "deleting": false
          }
        }
      }
    },
    {
      "cell_type": "code",
      "source": [
        "# Use current workspace \n",
        "ws = Workspace.from_config()\n",
        "\n",
        "# Use default datastore\n",
        "datastore = ws.get_default_datastore()\n",
        "\n",
        "# Choose a name for experiment  \n",
        "experiment_name = 'ethereum-forecasting'\n",
        "experiment=Experiment(ws, experiment_name)\n",
        "\n",
        "# Choose a name for your CPU cluster\n",
        "# If the cluster exists, use it. Otherwise create it\n",
        "amlcompute_cluster_name = 'cpu-cluster'\n",
        "\n",
        "try:\n",
        "    compute_target = ComputeTarget(workspace=ws, name=amlcompute_cluster_name)\n",
        "    print('Found existing cluster, use it.')\n",
        "except ComputeTargetException:\n",
        "    cluster_count = 6\n",
        "    compute_config = AmlCompute.provisioning_configuration(\n",
        "        vm_size='STANDARD_D2_V2',# for GPU, use \"STANDARD_NC6\", for CPU use 'STANDARD_D2_V2'\n",
        "        vm_priority = 'lowpriority', # optional\n",
        "        min_nodes=0,\n",
        "        max_nodes=cluster_count\n",
        "    )\n",
        "    compute_target = ComputeTarget.create(\n",
        "        ws, \n",
        "        amlcompute_cluster_name, \n",
        "        compute_config\n",
        "    )\n",
        "\n",
        "compute_target.wait_for_completion(\n",
        "    show_output=True, \n",
        "    min_node_count = 0, \n",
        "    timeout_in_minutes = 10\n",
        ")"
      ],
      "outputs": [
        {
          "output_type": "stream",
          "name": "stdout",
          "text": [
            "Found existing cluster, use it.\n",
            "Succeeded\n",
            "AmlCompute wait for completion finished\n",
            "\n",
            "Minimum number of nodes requested have been provisioned\n"
          ]
        }
      ],
      "execution_count": 2,
      "metadata": {
        "gather": {
          "logged": 1629148284908
        },
        "jupyter": {
          "outputs_hidden": false,
          "source_hidden": false
        },
        "nteract": {
          "transient": {
            "deleting": false
          }
        }
      }
    },
    {
      "cell_type": "markdown",
      "source": [
        "To ensure the model is being trained using the specific Python and library versions that work together I specify a Docker file that is used to create an AzureML environment. \r\n",
        "An AzureML environment class object is required to run model training and inference. Do note the `%%writefile` is only required on the first run of this script. Anything else will redundantly overwrite the previous `dockerfile`."
      ],
      "metadata": {
        "nteract": {
          "transient": {
            "deleting": false
          }
        }
      }
    },
    {
      "cell_type": "code",
      "source": [
        "%%writefile dockerfile\n",
        "\n",
        "FROM mcr.microsoft.com/azureml/openmpi4.1.0-cuda11.0.3-cudnn8-ubuntu18.04:20210615.v1\n",
        "\n",
        "ENV AZUREML_CONDA_ENVIRONMENT_PATH /azureml-envs/tensorflow-2.4\n",
        "\n",
        "# Create conda environment\n",
        "RUN conda create -p $AZUREML_CONDA_ENVIRONMENT_PATH \\\n",
        "    python=3.7 pip=20.2.4\n",
        "\n",
        "# Prepend path to AzureML conda environment\n",
        "ENV PATH $AZUREML_CONDA_ENVIRONMENT_PATH/bin:$PATH\n",
        "\n",
        "# Install pip dependencies\n",
        "RUN HOROVOD_WITH_TENSORFLOW=1 \\\n",
        "    pip install 'matplotlib>=3.3,<3.4' \\\n",
        "                'psutil>=5.8,<5.9' \\\n",
        "                'tqdm>=4.59,<4.60' \\\n",
        "                'pandas>=1.1,<1.2' \\\n",
        "                'scipy>=1.5,<1.6' \\\n",
        "                'numpy>=1.10,<1.20' \\\n",
        "                'azureml-core==1.31.0' \\\n",
        "                'azureml-defaults==1.31.0' \\\n",
        "                'azureml-telemetry==1.31.0' \\\n",
        "                'tensorflow==2.4.0' \\\n",
        "                'tensorflow-gpu==2.4.0' \\\n",
        "                'horovod[tensorflow-gpu]==0.21.3' \\\n",
        "                'scikit-learn==0.24'\n",
        "\n",
        "# This is needed for mpi to locate libpython\n",
        "ENV LD_LIBRARY_PATH $AZUREML_CONDA_ENVIRONMENT_PATH/lib:$LD_LIBRARY_PATH"
      ],
      "outputs": [
        {
          "output_type": "stream",
          "name": "stdout",
          "text": [
            "Overwriting dockerfile\n"
          ]
        }
      ],
      "execution_count": 3,
      "metadata": {
        "collapsed": true,
        "jupyter": {
          "outputs_hidden": false,
          "source_hidden": false
        },
        "nteract": {
          "transient": {
            "deleting": false
          }
        },
        "gather": {
          "logged": 1628887527436
        }
      }
    },
    {
      "cell_type": "code",
      "source": [
        "# # If you used the conda file created above...\n",
        "# env = Environment.from_conda_specification(name = 'tensorflow-keras-sklearn-training', file_path = './conda_dependencies.yml')\n",
        "# # Specify a GPU base image\n",
        "# env.docker.base_image = 'mcr.microsoft.com/azureml/openmpi3.1.2-cuda10.0-cudnn7-ubuntu18.04'\n",
        "# print(env)\n",
        "\n",
        "# If you used the dockerfile created above...\n",
        "\n",
        "env = Environment.from_dockerfile(name = 'tensorflow-sklearn-training', dockerfile = './dockerfile')\n",
        "\n",
        "env.register(workspace=ws)\n",
        "print(env)"
      ],
      "outputs": [
        {
          "output_type": "stream",
          "name": "stdout",
          "text": [
            "Environment(Name: tensorflow-sklearn-training,\n",
            "Version: None)\n"
          ]
        }
      ],
      "execution_count": 4,
      "metadata": {
        "collapsed": true,
        "gather": {
          "logged": 1629148285903
        },
        "jupyter": {
          "outputs_hidden": false,
          "source_hidden": false
        },
        "nteract": {
          "transient": {
            "deleting": false
          }
        }
      }
    },
    {
      "cell_type": "markdown",
      "source": [
        "## Dataset\r\n",
        "\r\n",
        "### Overview\r\n",
        "The data sets I'll be working with are from Kaggle and contain time-series price data on popular cryptocurrencies from their Initial Coin Offering (ICO) to July 2021. \r\n",
        "For this project we will only be using historical info from Bitcoin (BTC) and Ethereum (ETH) to predict the closing price of Ethereum at each day's open.\r\n",
        "BTC has been known to be the market leader with a huge portion of market capitalization and tends to heavily influence the prices of alternative coins like ETH. \r\n",
        "If this is true, using daily Bitcoin data should be a good signal for Ethereum's daily closing price. "
      ],
      "metadata": {
        "nteract": {
          "transient": {
            "deleting": false
          }
        }
      }
    },
    {
      "cell_type": "markdown",
      "source": [
        "The first time running this code go to the Azure compute instance terminal and type in:\r\n",
        "\r\n",
        "> pip install kaggle\r\n",
        "\r\n",
        "This module will allow you to download Kaggle data straight into your workspace. However, before you can do this you need to specifiy some environment variables that the kaggle module requires by adding your Kaggle username and API token:\r\n",
        "\r\n",
        "> export KAGGLE_USERNAME=xxxx\r\n",
        "<br>\r\n",
        "> export KAGGLE_KEY=xxxxxxxxxxxxxx\r\n",
        "\r\n",
        "This token can be generated by going to your Kaggle Account page and generating an API token. Once these are in place you can run a variation of the following code that has your info included:\r\n",
        "\r\n",
        "> kaggle datasets download -p your/path sudalairajkumar/cryptocurrencypricehistory\r\n",
        "\r\n",
        "You don't need to specify a path where the data will be downloaded, but you can by adding the `-p` (path) modifier and specifying the output path. Then specify the Kaggle user and their project to download the data tied to the project. "
      ],
      "metadata": {
        "nteract": {
          "transient": {
            "deleting": false
          }
        }
      }
    },
    {
      "cell_type": "code",
      "source": [
        "# Unzip Kaggle file and only load in the Ethereum data\n",
        "with zipfile.ZipFile('./data/cryptocurrencypricehistory.zip') as myzip:\n",
        "    with myzip.open('coin_Ethereum.csv') as Ethereum:\n",
        "        ETH = pd.read_csv(Ethereum)   \n",
        "    with myzip.open('coin_Bitcoin.csv') as Bitcoin:\n",
        "        BTC = pd.read_csv(Bitcoin)   \n",
        "       \n",
        "ETH.drop(['SNo', 'Name', 'Symbol'], inplace=True, axis=1)\n",
        "BTC.drop(['SNo', 'Name', 'Symbol'], inplace=True, axis=1)\n",
        "\n",
        "crypto = ETH.merge(BTC, how='inner', on='Date', suffixes=['_ETH', '_BTC'])\n",
        "\n",
        "# Change datetime column to be a date and sort by it\n",
        "crypto.loc[:,'Date'] = pd.to_datetime(crypto.Date).dt.date\n",
        "crypto.set_index('Date', inplace=True, drop=True)\n",
        "crypto.sort_index(ascending=True, inplace=True)\n",
        "# Add new columns that prevent data leakage and remove the old ones\n",
        "crypto.loc[:,'LowPrevDay_BTC'] = crypto.Low_BTC.shift(1)\n",
        "crypto.loc[:,'LowPrevDay_ETH'] = crypto.Low_ETH.shift(1)\n",
        "crypto.loc[:,'HighPrevDay_BTC'] = crypto.High_BTC.shift(1)\n",
        "crypto.loc[:,'HighPrevDay_ETH'] = crypto.High_ETH.shift(1)\n",
        "crypto.loc[:,'VolumePrevDay_BTC'] = crypto.Volume_BTC.shift(1)\n",
        "crypto.loc[:,'VolumePrevDay_ETH'] = crypto.Volume_ETH.shift(1)\n",
        "crypto.loc[:,'MarketcapPrevDay_BTC'] = crypto.Marketcap_BTC.shift(1)\n",
        "crypto.loc[:,'MarketcapPrevDay_ETH'] = crypto.Marketcap_ETH.shift(1)\n",
        "crypto.loc[:,'HiLoDiff_ETH'] = crypto.HighPrevDay_ETH - crypto.LowPrevDay_ETH\n",
        "crypto.loc[:,'HiLoDiff_BTC'] = crypto.HighPrevDay_BTC - crypto.LowPrevDay_BTC\n",
        "crypto.loc[:,'Close_MA7_ETH'] = crypto.Close_ETH.rolling(7).mean()\n",
        "crypto.loc[:,'Close_MA14_ETH'] = crypto.Close_ETH.rolling(14).mean()\n",
        "crypto.loc[:,'Close_STDEV7_ETH'] = crypto.Close_ETH.rolling(7).std()\n",
        "crypto.loc[:,'Close_STDEV14_ETH'] = crypto.Close_ETH.rolling(14).std()\n",
        "crypto.drop(['Close_BTC', 'Low_BTC', 'Low_ETH', 'High_BTC', 'High_ETH', 'Volume_BTC', 'Volume_ETH', 'Marketcap_BTC', 'Marketcap_ETH'], axis=1, inplace=True)\n",
        "crypto.drop(index=crypto.index[0], axis=0, inplace=True) \n",
        "crypto.dropna(inplace=True)\n",
        "\n",
        "crypto.to_csv('./data/crypto.csv')\n",
        "crypto = pd.read_csv('./data/crypto.csv')\n",
        "crypto.head()"
      ],
      "outputs": [
        {
          "output_type": "execute_result",
          "execution_count": 5,
          "data": {
            "text/plain": "         Date  Open_ETH  Close_ETH    Open_BTC  LowPrevDay_BTC  \\\n0  2015-08-21   1.47752    1.39529  235.354996      226.899002   \n1  2015-08-22   1.39629    1.37923  232.662003      231.723999   \n2  2015-08-23   1.37500    1.35259  230.376007      222.703995   \n3  2015-08-24   1.34559    1.23127  228.112000      225.580002   \n4  2015-08-25   1.22861    1.14019  210.067993      210.442993   \n\n   LowPrevDay_ETH  HighPrevDay_BTC  HighPrevDay_ETH  VolumePrevDay_BTC  \\\n0         1.24833       237.365005          1.53330         32275000.0   \n1         1.35280       236.432007          1.55642         23173800.0   \n2         1.35268       234.957001          1.47641         23205900.0   \n3         1.29777       232.705002          1.40970         18406600.0   \n4         1.23127       228.139008          1.36278         59220700.0   \n\n   VolumePrevDay_ETH  MarketcapPrevDay_BTC  MarketcapPrevDay_ETH  \\\n0          2843760.0          3.417123e+09          1.063514e+08   \n1          2020970.0          3.377704e+09          1.013319e+08   \n2           948310.0          3.346962e+09          1.002018e+08   \n3          1589300.0          3.315467e+09          9.830035e+07   \n4           924920.0          3.059461e+09          8.951526e+07   \n\n   HiLoDiff_ETH  HiLoDiff_BTC  Close_MA7_ETH  Close_MA14_ETH  \\\n0       0.28497     10.466003       1.380666        1.269226   \n1       0.20362      4.708008       1.336427        1.313934   \n2       0.12373     12.253006       1.305936        1.360412   \n3       0.11193      7.125000       1.309887        1.397756   \n4       0.13151     17.696014       1.317479        1.402923   \n\n   Close_STDEV7_ETH  Close_STDEV14_ETH  \n0          0.211769           0.384875  \n1          0.163488           0.355575  \n2          0.130004           0.308881  \n3          0.126755           0.249983  \n4          0.111907           0.243299  ",
            "text/html": "<div>\n<style scoped>\n    .dataframe tbody tr th:only-of-type {\n        vertical-align: middle;\n    }\n\n    .dataframe tbody tr th {\n        vertical-align: top;\n    }\n\n    .dataframe thead th {\n        text-align: right;\n    }\n</style>\n<table border=\"1\" class=\"dataframe\">\n  <thead>\n    <tr style=\"text-align: right;\">\n      <th></th>\n      <th>Date</th>\n      <th>Open_ETH</th>\n      <th>Close_ETH</th>\n      <th>Open_BTC</th>\n      <th>LowPrevDay_BTC</th>\n      <th>LowPrevDay_ETH</th>\n      <th>HighPrevDay_BTC</th>\n      <th>HighPrevDay_ETH</th>\n      <th>VolumePrevDay_BTC</th>\n      <th>VolumePrevDay_ETH</th>\n      <th>MarketcapPrevDay_BTC</th>\n      <th>MarketcapPrevDay_ETH</th>\n      <th>HiLoDiff_ETH</th>\n      <th>HiLoDiff_BTC</th>\n      <th>Close_MA7_ETH</th>\n      <th>Close_MA14_ETH</th>\n      <th>Close_STDEV7_ETH</th>\n      <th>Close_STDEV14_ETH</th>\n    </tr>\n  </thead>\n  <tbody>\n    <tr>\n      <th>0</th>\n      <td>2015-08-21</td>\n      <td>1.47752</td>\n      <td>1.39529</td>\n      <td>235.354996</td>\n      <td>226.899002</td>\n      <td>1.24833</td>\n      <td>237.365005</td>\n      <td>1.53330</td>\n      <td>32275000.0</td>\n      <td>2843760.0</td>\n      <td>3.417123e+09</td>\n      <td>1.063514e+08</td>\n      <td>0.28497</td>\n      <td>10.466003</td>\n      <td>1.380666</td>\n      <td>1.269226</td>\n      <td>0.211769</td>\n      <td>0.384875</td>\n    </tr>\n    <tr>\n      <th>1</th>\n      <td>2015-08-22</td>\n      <td>1.39629</td>\n      <td>1.37923</td>\n      <td>232.662003</td>\n      <td>231.723999</td>\n      <td>1.35280</td>\n      <td>236.432007</td>\n      <td>1.55642</td>\n      <td>23173800.0</td>\n      <td>2020970.0</td>\n      <td>3.377704e+09</td>\n      <td>1.013319e+08</td>\n      <td>0.20362</td>\n      <td>4.708008</td>\n      <td>1.336427</td>\n      <td>1.313934</td>\n      <td>0.163488</td>\n      <td>0.355575</td>\n    </tr>\n    <tr>\n      <th>2</th>\n      <td>2015-08-23</td>\n      <td>1.37500</td>\n      <td>1.35259</td>\n      <td>230.376007</td>\n      <td>222.703995</td>\n      <td>1.35268</td>\n      <td>234.957001</td>\n      <td>1.47641</td>\n      <td>23205900.0</td>\n      <td>948310.0</td>\n      <td>3.346962e+09</td>\n      <td>1.002018e+08</td>\n      <td>0.12373</td>\n      <td>12.253006</td>\n      <td>1.305936</td>\n      <td>1.360412</td>\n      <td>0.130004</td>\n      <td>0.308881</td>\n    </tr>\n    <tr>\n      <th>3</th>\n      <td>2015-08-24</td>\n      <td>1.34559</td>\n      <td>1.23127</td>\n      <td>228.112000</td>\n      <td>225.580002</td>\n      <td>1.29777</td>\n      <td>232.705002</td>\n      <td>1.40970</td>\n      <td>18406600.0</td>\n      <td>1589300.0</td>\n      <td>3.315467e+09</td>\n      <td>9.830035e+07</td>\n      <td>0.11193</td>\n      <td>7.125000</td>\n      <td>1.309887</td>\n      <td>1.397756</td>\n      <td>0.126755</td>\n      <td>0.249983</td>\n    </tr>\n    <tr>\n      <th>4</th>\n      <td>2015-08-25</td>\n      <td>1.22861</td>\n      <td>1.14019</td>\n      <td>210.067993</td>\n      <td>210.442993</td>\n      <td>1.23127</td>\n      <td>228.139008</td>\n      <td>1.36278</td>\n      <td>59220700.0</td>\n      <td>924920.0</td>\n      <td>3.059461e+09</td>\n      <td>8.951526e+07</td>\n      <td>0.13151</td>\n      <td>17.696014</td>\n      <td>1.317479</td>\n      <td>1.402923</td>\n      <td>0.111907</td>\n      <td>0.243299</td>\n    </tr>\n  </tbody>\n</table>\n</div>"
          },
          "metadata": {}
        }
      ],
      "execution_count": 5,
      "metadata": {
        "gather": {
          "logged": 1629148287595
        }
      }
    },
    {
      "cell_type": "markdown",
      "source": [
        "Unlike the AutoML notebook I have added in my own features. I wanted to see if the AutoML auto featurization could add more value than my custom features.\r\n",
        "\r\n",
        "Now that the data is prepped, it will be uploaded to the default data store which is Azure Blob Storage. From there it can be loaded into the notebook as an Azure TabularDataset so that we can register it below. The logic below allows us to check if it had previously been uploaded, and if so, it will continue on to convert it back into a Pandas DataFrame with the appropriate 'Date' index to examine that it looks as expected. The registered data set is what will be loaded into the training script for hyperparameter tuning."
      ],
      "metadata": {
        "nteract": {
          "transient": {
            "deleting": false
          }
        }
      }
    },
    {
      "cell_type": "code",
      "source": [
        "# Upload the data to the datastore\n",
        "datastore.upload_files(files = ['./data/crypto.csv'],\n",
        "                       target_path = 'crypto/',\n",
        "                       overwrite = True,\n",
        "                       show_progress = True)\n",
        "# See if the data is there \n",
        "dataset = Dataset.Tabular.from_delimited_files(path = [(datastore, 'crypto/crypto.csv')])"
      ],
      "outputs": [
        {
          "output_type": "stream",
          "name": "stdout",
          "text": [
            "Uploading an estimated of 1 files\n",
            "Uploading ./data/crypto.csv\n",
            "Uploaded ./data/crypto.csv, 1 files out of an estimated total of 1\n",
            "Uploaded 1 files\n"
          ]
        },
      ],
      "execution_count": 6,
      "metadata": {
        "collapsed": true,
        "gather": {
          "logged": 1629143258116
        },
        "jupyter": {
          "outputs_hidden": false,
          "source_hidden": false
        },
        "nteract": {
          "transient": {
            "deleting": false
          }
        }
      }
    },
    {
      "cell_type": "code",
      "source": [
        "# Try to get the registered dataset. If its not there, register it\n",
        "dataset_registered = False\n",
        "try:\n",
        "    temp = Dataset.get_by_name(workspace = ws, name = 'crypto')\n",
        "    dataset_registered = True\n",
        "except:\n",
        "    print(\"The dataset 'crypto' is not registered in workspace yet.\")\n",
        "\n",
        "if not dataset_registered:\n",
        "    dataset = dataset.register(\n",
        "        workspace = ws,\n",
        "        name = 'crypto',\n",
        "        description='training and test dataset',\n",
        "        create_new_version=True\n",
        "        )\n",
        "\n",
        "# Check to make sure the data is the way you expect it after moving it around from Kaggle to your environment to the datastore to a registered dataset\n",
        "crypto = dataset.to_pandas_dataframe()\n",
        "crypto.set_index('Date', inplace=True, drop=True)\n",
        "crypto.sort_index(ascending=True, inplace=True)\n",
        "crypto.head()"
      ],
      "outputs": [],
      "execution_count": null,
      "metadata": {
        "gather": {
          "logged": 1629143259394
        },
        "jupyter": {
          "outputs_hidden": false,
          "source_hidden": false
        },
        "nteract": {
          "transient": {
            "deleting": false
          }
        }
      }
    },
    {
      "cell_type": "markdown",
      "source": [
        "## Hyperdrive Configuration\n",
        "\n",
        "Here I am running a deep learning model coded with Tensorflow's Keras API. This is done by creating a training script that will be ingested by the `HyperDriveConfig`. It will be using an LSTM architecture which is especially designed for modeling sequential data and retaining historical trends, which is perfect for forecasting time series data."
      ],
      "metadata": {
        "collapsed": true,
        "gather": {
          "logged": 1598531923519
        },
        "jupyter": {
          "outputs_hidden": false,
          "source_hidden": false
        },
        "nteract": {
          "transient": {
            "deleting": false
          }
        }
      }
    },
    {
      "cell_type": "code",
      "source": [
        "%%writefile crypto_train.py\r\n",
        "\r\n",
        "import argparse\r\n",
        "import json\r\n",
        "import os\r\n",
        "import zipfile\r\n",
        "import pandas as pd\r\n",
        "import numpy as np\r\n",
        "import matplotlib.pyplot as plt\r\n",
        "import joblib\r\n",
        "from sklearn.preprocessing import MinMaxScaler\r\n",
        "from tensorflow.keras.models import Sequential\r\n",
        "from tensorflow.keras.layers import Dense, Dropout, LSTM\r\n",
        "from tensorflow.keras.metrics import RootMeanSquaredError\r\n",
        "from tensorflow.keras.callbacks import Callback\r\n",
        "from azureml.core import Run\r\n",
        "from azureml.core import Dataset\r\n",
        "from azureml.core.workspace import Workspace\r\n",
        "import tensorflow\r\n",
        "print('\\nTensorflow version:', tensorflow.__version__)\r\n",
        "\r\n",
        "class LogRunMetrics(Callback):\r\n",
        "    # callback at the end of every epoch\r\n",
        "    def on_epoch_end(self, epoch, log):\r\n",
        "        # log a value repeated which creates a list\r\n",
        "        run.log('Loss', log['val_loss'])\r\n",
        "\r\n",
        "# -------------------------------------------------------------------\r\n",
        "\r\n",
        "run = Run.get_context()\r\n",
        "\r\n",
        "# Add arguments to script\r\n",
        "parser = argparse.ArgumentParser()\r\n",
        "\r\n",
        "parser.add_argument('--input_data', type=str)\r\n",
        "parser.add_argument('--hidden', type=int, default=100)\r\n",
        "parser.add_argument('--learning_rate', type=float, default=0.01)\r\n",
        "parser.add_argument('--dropout', type=float)\r\n",
        "\r\n",
        "args = parser.parse_args()\r\n",
        "input_data = args.input_data\r\n",
        "\r\n",
        "# Use current workspace \r\n",
        "ws = run.experiment.workspace\r\n",
        "\r\n",
        "# Get the input dataset by ID\r\n",
        "dataset = Dataset.get_by_id(ws, id=args.input_data)\r\n",
        "\r\n",
        "# Load the TabularDataset to pandas DataFrame\r\n",
        "crypto = dataset.to_pandas_dataframe()\r\n",
        "\r\n",
        "crypto.set_index('Date', inplace=True, drop=True)\r\n",
        "crypto.sort_index(ascending=True, inplace=True)\r\n",
        "crypto.head()\r\n",
        "\r\n",
        "target_col = ['Close_ETH']\r\n",
        "\r\n",
        "# Train set\r\n",
        "train_size = int(round(crypto.shape[0]*0.8, 0))\r\n",
        "train_df = crypto.iloc[0:train_size,:] # this is what makes this df unique\r\n",
        "train_df = train_df[[c for c in train_df if c not in target_col] + target_col]\r\n",
        "train_values = train_df.values.astype('float32')\r\n",
        "### Use scaler in training, validation, and test sets\r\n",
        "scaler = MinMaxScaler(feature_range=(0, 1)) \r\n",
        "### Notice `fit_transform` is used only here. For other data sets only `transform` is used\r\n",
        "train_scaled = scaler.fit_transform(train_values)\r\n",
        "X_train, y_train = train_scaled[:, :-1], train_scaled[:, -1]\r\n",
        "X_train = X_train.reshape(X_train.shape[0], 1, X_train.shape[1])\r\n",
        "print('Train:', X_train.shape, y_train.shape)\r\n",
        "\r\n",
        "# Validation set\r\n",
        "val_size = int(round(crypto.shape[0]*0.1, 0))\r\n",
        "val_df = crypto.iloc[train_size:(train_size + val_size),:] # this is what makes this df unique\r\n",
        "val_df = val_df[[c for c in val_df if c not in target_col] + target_col]\r\n",
        "val_values = val_df.values.astype('float32')\r\n",
        "val_scaled = scaler.transform(val_values)\r\n",
        "X_val, y_val = val_scaled[:, :-1], val_scaled[:, -1]\r\n",
        "X_val = X_val.reshape(X_val.shape[0], 1, X_val.shape[1])\r\n",
        "print('Validation:', X_val.shape, y_val.shape)\r\n",
        "\r\n",
        "# Test set\r\n",
        "test_df = crypto.iloc[(train_size + val_size):crypto.shape[0],:] # this is what makes this df unique\r\n",
        "test_df = test_df[[c for c in test_df if c not in target_col] + target_col]\r\n",
        "test_values = test_df.values.astype('float32')\r\n",
        "test_scaled = scaler.transform(test_values)\r\n",
        "X_test, y_test = test_scaled[:, :-1], test_scaled[:, -1]\r\n",
        "X_test = X_test.reshape(X_test.shape[0], 1, X_test.shape[1])\r\n",
        "print('Test:', X_test.shape, y_test.shape)\r\n",
        "\r\n",
        "run.log(\"Hidden Layers\", np.int(args.hidden))\r\n",
        "run.log('Learning Rate', np.float(args.learning_rate))\r\n",
        "run.log(\"Dropout\", np.float(args.dropout))\r\n",
        "\r\n",
        "# Build an LSTM model\r\n",
        "model = Sequential()\r\n",
        "model.add(LSTM(args.hidden, return_sequences=True, input_shape=(X_train.shape[1], X_train.shape[2])))\r\n",
        "model.add(Dropout(args.dropout))\r\n",
        "model.add(LSTM(np.int(args.hidden/2), return_sequences=False))\r\n",
        "model.add(Dropout(args.dropout))\r\n",
        "model.add(Dense(1))\r\n",
        "\r\n",
        "# Compile the model\r\n",
        "model.compile(optimizer='adam', loss='mse', metrics=[RootMeanSquaredError(), 'mape', 'mae'])\r\n",
        "model.summary()\r\n",
        "\r\n",
        "history = model.fit(\r\n",
        "    X_train, y_train,\r\n",
        "    epochs=25,\r\n",
        "    verbose=2,\r\n",
        "    validation_data=(X_val, y_val),\r\n",
        "    callbacks=[LogRunMetrics()]\r\n",
        ")\r\n",
        "\r\n",
        "print(history.history)\r\n",
        "\r\n",
        "score = model.evaluate(X_val, y_val, verbose=0)\r\n",
        "\r\n",
        "mse = score[0]\r\n",
        "print('Mean Squared Error:', mse)\r\n",
        "run.log('Mean Absolute Error', np.float(mse))\r\n",
        "\r\n",
        "rmse = score[1]\r\n",
        "print('Root Mean Squared Error:', rmse)\r\n",
        "run.log('Root Mean Squared Error', np.float(rmse))\r\n",
        "\r\n",
        "mape = score[2]\r\n",
        "print('Mean Absolute Percentage Error:', mape)\r\n",
        "run.log('Mean Absolute Percentage Error', np.float(mape))\r\n",
        "\r\n",
        "mae = score[3]\r\n",
        "print('Mean Absolute Error:', mae)\r\n",
        "run.log('Mean Absolute Error', np.float(mae))\r\n",
        "\r\n",
        "\r\n",
        "plt.figure(figsize=(6, 3))\r\n",
        "plt.title('ETH Model Epochs: Train vs Validation Data', fontsize=14)\r\n",
        "plt.plot(history.history['loss'], 'b', label='Train MAE', lw=4, alpha=0.5)\r\n",
        "plt.plot(history.history['val_loss'], 'r', label='Val MAE', lw=4, alpha=0.5)\r\n",
        "plt.legend(fontsize=12)\r\n",
        "plt.grid(True)\r\n",
        "\r\n",
        "# Log an image\r\n",
        "run.log_image('ETH_keras', plot=plt)\r\n",
        "\r\n",
        "# Create a ./outputs folder in the compute target\r\n",
        "# Files saved in the \"./outputs\" folder are automatically uploaded into run history\r\n",
        "os.makedirs('./outputs', exist_ok=True)\r\n",
        "\r\n",
        "joblib.dump(scaler, './outputs/scaler.joblib')\r\n",
        "\r\n",
        "np.save('./outputs/X_train.npy', X_train)\r\n",
        "np.save('./outputs/y_train.npy', y_train)\r\n",
        "\r\n",
        "np.save('./outputs/X_test.npy', X_test)\r\n",
        "np.save('./outputs/y_test.npy', y_test)\r\n",
        "\r\n",
        "model.save('./outputs/ETH_hyperdrive_model',save_format='tf') # new way to save and load models by creating a model folder where all model info is saved\r\n",
        "model.save('./outputs/ETH_hyperdrive_model.h5',save_format='h5') # old way using a hdf5 file\r\n",
        "\r\n",
        "print(\"Whole model saved in ./outputs folder\")\r\n",
        "\r\n",
        "# # Alternate way to save and load models\r\n",
        "# # serialize NN architecture to JSON\r\n",
        "# model_json = model.to_json()\r\n",
        "# # save model JSON\r\n",
        "# with open('./outputs/model.json', 'w') as f:\r\n",
        "#     f.write(model_json)\r\n",
        "# # save model weights\r\n",
        "# model.save_weights('./outputs/model.h5')\r\n",
        "# print(\"model weights and architecture saved in ./outputs folder\")"
      ],
      "outputs": [],
      "execution_count": null,
      "metadata": {
        "collapsed": true,
        "jupyter": {
          "source_hidden": false,
          "outputs_hidden": false
        },
        "nteract": {
          "transient": {
            "deleting": false
          }
        }
      }
    },
    {
      "cell_type": "markdown",
      "source": [
        "Then I choose the hyperparameter search space, hyperparameter sampling method, and hyperparameter run configurations.\n",
        "\n",
        "The 3 different hyperparameters being searched are:\n",
        "  - 1. The number of hidden neurons\n",
        "  - 2. The learning rate of the chosen gradient descent backpropigation algorithm\n",
        "  - 3. The dropout of information between layers \n",
        "\n",
        "Neuron count helps determine the complexity of the model and I devised the architecture to have 2 LSTM layers, the first being the size of the hyperparameter being sent, the second being half that amount. The values being sent to the first LSTM layer were 32, 64, or 128. \n",
        "Learning rate helps determine convergence on a loss minima, though whether that is a global minima or local minima is unknown. In English, this is the speed at which the model converges on its known peak performance, though that performance can't be guaranteed as it's best given infinite options. If the speed is too high there is good chance that it will overlook spaces of more optimal performance. If its too small training iterations will need to be increased and training will take a long time to come to a good performance. I chose not to search the number of epochs because this hyperparameter is somewhat of a substitute. Values between 0.001, 0.1 were randomly searched for this hyperparameter.\n",
        "Dropout helps the model not overfit and is a great hyperparameter to search to help test data set performance. If the model is too accustomumed to the nuances of the training set then it may not be able to accurately predict data it has never seen, so we need to create aan artificial loss of information so that it doesn't hone in on __all__ training set nuances. The were 2 layers of information dropout each one following each LSTM layer. The values searched were anywhere from 0% to 25% information drop out (0-25% of neurons on each epoch were ignored)\n",
        "\n",
        "Given I am using Baysian hyperparameter searching there is not need for an early stopping policy. This method uses previous runs' infomation to tweak hyperparameters in the direction that is likely better than those previous runs. \n",
        "\n",
        "The run is being configured to send the `crypto` TabularDataset to a training script that does all the modeling work. That training script will run in the specified environment which is contained in a Docker image as specified. Each model run is minimizing `Root Mean Squared Error` which is the name given for the loss function in the training script.\n"
      ],
      "metadata": {
        "nteract": {
          "transient": {
            "deleting": false
          }
        }
      }
    },
    {
      "cell_type": "code",
      "source": [
        "# Create the different params that you will be using during training\n",
        "# \"Note that only choice, quniform, and uniform are supported for Bayesian optimization\" https://docs.microsoft.com/en-us/python/api/azureml-train-core/azureml.train.hyperdrive.bayesianparametersampling?view=azure-ml-py#parameters\n",
        "param_sampling = BayesianParameterSampling(\n",
        "    {\n",
        "        'hidden': choice(32, 64, 128),\n",
        "        'learning_rate': uniform(0.001, 0.1),\n",
        "        'dropout': uniform(0, 0.25)\n",
        "    }\n",
        ")\n",
        "\n",
        "# Create an estimator by running crypto_train.py\n",
        "args = ['--input_data', dataset.as_named_input('crypto')]\n",
        "src = ScriptRunConfig(\n",
        "    source_directory='.', \n",
        "    script='crypto_train.py', \n",
        "    arguments=args,\n",
        "    compute_target=compute_target,\n",
        "    environment=env\n",
        ")\n",
        "\n",
        "\n",
        "# Create a HyperDriveConfig using the estimator, hyperparameter sampler, and policy.\n",
        "hyperdrive_run_config = HyperDriveConfig(\n",
        "    run_config=src, \n",
        "    hyperparameter_sampling=param_sampling, \n",
        "    primary_metric_name='Mean Absolute Percentage Error', \n",
        "    primary_metric_goal=PrimaryMetricGoal.MINIMIZE, \n",
        "    max_total_runs=30\n",
        ") "
      ],
      "outputs": [],
      "execution_count": null,
      "metadata": {
        "gather": {
          "logged": 1629143259672
        },
        "jupyter": {
          "outputs_hidden": false,
          "source_hidden": false
        },
        "nteract": {
          "transient": {
            "deleting": false
          }
        }
      }
    },
    {
      "cell_type": "markdown",
      "source": [
        "## Run Details\n",
        "\n",
        "We can now submit the experiment and see the results."
      ],
      "metadata": {
        "collapsed": true,
        "gather": {
          "logged": 1598544898497
        },
        "jupyter": {
          "outputs_hidden": false,
          "source_hidden": false
        },
        "nteract": {
          "transient": {
            "deleting": false
          }
        }
      }
    },
    {
      "cell_type": "code",
      "source": [
        "# Submit your hyperdrive run to the experiment and show run details with the widget.\n",
        "hyperdrive_run = experiment.submit(hyperdrive_run_config)\n",
        "print(\"Run submitted for execution.\")"
      ],
      "outputs": [],
      "execution_count": null,
      "metadata": {
        "gather": {
          "logged": 1629143265327
        },
        "jupyter": {
          "outputs_hidden": false,
          "source_hidden": false
        },
        "nteract": {
          "transient": {
            "deleting": false
          }
        }
      }
    },
    {
      "cell_type": "code",
      "source": [
        "RunDetails(hyperdrive_run).show()\n",
        "hyperdrive_run.wait_for_completion(show_output=True)"
      ],
      "outputs": [],
      "execution_count": null,
      "metadata": {
        "gather": {
          "logged": 1629144621250
        },
        "jupyter": {
          "outputs_hidden": false,
          "source_hidden": false
        },
        "nteract": {
          "transient": {
            "deleting": false
          }
        }
      }
    },
    {
      "cell_type": "markdown",
      "source": [
        "## Best Model\n",
        "\n",
        "The best model from the run above can be easily retrieved with an AzureML HyperDriveRun method. Then we can see its metrics, details, and files. If all looks well, we can register the model tied to this run in AzureML."
      ],
      "metadata": {}
    },
    {
      "cell_type": "code",
      "source": [
        "# Get your best run and save the model from that run.\n",
        "best_hyperdrive_run = hyperdrive_run.get_best_run_by_primary_metric()\n",
        "print(best_hyperdrive_run.get_metrics(), '\\n')\n",
        "print(best_hyperdrive_run.get_details(), '\\n')\n",
        "print(best_hyperdrive_run.get_file_names(), '\\n')"
      ],
      "outputs": [],
      "execution_count": null,
      "metadata": {
        "gather": {
          "logged": 1629144622887
        },
        "jupyter": {
          "outputs_hidden": false,
          "source_hidden": false
        },
        "nteract": {
          "transient": {
            "deleting": false
          }
        }
      }
    },
    {
      "cell_type": "code",
      "source": [
        "# create a model folder in the current directory\r\n",
        "os.makedirs('./hyperdrive_model', exist_ok=True)\r\n",
        "best_hyperdrive_run.download_files(output_directory='./hyperdrive_model')"
      ],
      "outputs": [],
      "execution_count": null,
      "metadata": {
        "collapsed": true,
        "jupyter": {
          "source_hidden": false,
          "outputs_hidden": false
        },
        "nteract": {
          "transient": {
            "deleting": false
          }
        },
        "gather": {
          "logged": 1629144623509
        }
      }
    },
    {
      "cell_type": "code",
      "source": [
        "# Save the best model\n",
        "best_hyperdrive_run.register_model(model_name = 'hyperdrive_Ethereum_forecaster', model_path='./outputs')"
      ],
      "outputs": [],
      "execution_count": null,
      "metadata": {
        "gather": {
          "logged": 1629144625611
        },
        "jupyter": {
          "outputs_hidden": false,
          "source_hidden": false
        },
        "nteract": {
          "transient": {
            "deleting": false
          }
        }
      }
    },
    {
      "cell_type": "markdown",
      "source": [
        "# Part 2: Deploying a HyperDrive Model"
      ],
      "metadata": {
        "nteract": {
          "transient": {
            "deleting": false
          }
        }
      }
    },
    {
      "cell_type": "markdown",
      "source": [
        "Now that we have registered a model we can deploy it to be used by other resources.\n",
        "\n",
        "Before we deploy this model we need a script that loads the model and feeds data to it at the endpoint. This can be called a scoring or inference script."
      ],
      "metadata": {
        "nteract": {
          "transient": {
            "deleting": false
          }
        }
      }
    },
    {
      "cell_type": "code",
      "source": [
        "%%writefile crypto_score.py\r\n",
        "\r\n",
        "import joblib\r\n",
        "import numpy as np\r\n",
        "import os\r\n",
        "import json\r\n",
        "from tensorflow.keras.models import load_model\r\n",
        "from azureml.core.model import Model\r\n",
        "\r\n",
        "def init():\r\n",
        "    global model\r\n",
        "\r\n",
        "    try:\r\n",
        "        model_dir = Model.get_model_path('hyperdrive_Ethereum_forecaster')\r\n",
        "        print(model_dir)\r\n",
        "        print(os.listdir(model_dir))\r\n",
        "        model = load_model(os.path.join(model_dir, 'ETH_hyperdrive_model'))\r\n",
        "    except Exception as e:\r\n",
        "        return 'Hyperdrive model loading failed due to following error:\\n' + str(e)\r\n",
        "        print()\r\n",
        "\r\n",
        "    \r\n",
        "def run(raw_data):\r\n",
        "    try:\r\n",
        "        data = np.array(json.loads(raw_data)['data'])\r\n",
        "        # Make prediction\r\n",
        "        y_hat = model.predict(data)\r\n",
        "        y_hat_list = y_hat.tolist()\r\n",
        "        return y_hat_list \r\n",
        "    except Exception as e:\r\n",
        "        return str(e)"
      ],
      "outputs": [],
      "execution_count": null,
      "metadata": {
        "collapsed": true,
        "jupyter": {
          "source_hidden": false,
          "outputs_hidden": false
        },
        "nteract": {
          "transient": {
            "deleting": false
          }
        }
      }
    },
    {
      "cell_type": "code",
      "source": [
        "%%writefile dummy_score.py\r\n",
        "\r\n",
        "import json\r\n",
        "\r\n",
        "def init():\r\n",
        "    print(\"This is init\")\r\n",
        "\r\n",
        "def run(data):\r\n",
        "    test = json.loads(data)\r\n",
        "    print(f\"received data {test}\")\r\n",
        "    return f\"{test}\""
      ],
      "outputs": [],
      "execution_count": null,
      "metadata": {
        "collapsed": true,
        "jupyter": {
          "source_hidden": false,
          "outputs_hidden": false
        },
        "nteract": {
          "transient": {
            "deleting": false
          }
        }
      }
    },
    {
      "cell_type": "markdown",
      "source": [
        "If you are starting to run this notebook starting with part 2 I reload the needed componenets below, though this is just redundant if you are running this notebook from top to bottom.\n",
        "\n",
        "Below these reloaded components are deployment configurations that specify how I want my endpoint to work and what it is made up of. It consists of my model, the environment the model runs in, the scoring script that runs the model, and the webservice being used (and its size/power). I also commented out some testing configurations that create a local endpoint and use a dummy script in that endpoint, though that was just for experimentation. Feel free to uncomment and use."
      ],
      "metadata": {
        "nteract": {
          "transient": {
            "deleting": false
          }
        }
      }
    },
    {
      "cell_type": "code",
      "source": [
        "# # To start from here and not have to retrain the model uncomment this and run it\r\n",
        "# import os\r\n",
        "# import zipfile\r\n",
        "# import numpy as np\r\n",
        "# import pandas as pd\r\n",
        "# import seaborn as sns\r\n",
        "# import matplotlib.pyplot as plt\r\n",
        "# from matplotlib import dates\r\n",
        "# import requests\r\n",
        "# import json\r\n",
        "# import sklearn\r\n",
        "# import joblib\r\n",
        "# import tensorflow\r\n",
        "# from tensorflow.keras.models import load_model\r\n",
        "\r\n",
        "# from azureml.core.workspace import Workspace\r\n",
        "# from azureml.core.environment import Environment\r\n",
        "# from azureml.core.run import Run\r\n",
        "# from azureml.core.model import InferenceConfig, Model\r\n",
        "# from azureml.core.conda_dependencies import CondaDependencies \r\n",
        "# from azureml.core.runconfig import DockerConfiguration\r\n",
        "# from azureml.core.webservice import LocalWebservice\r\n",
        "# from azureml.core.webservice.aci import AciWebservice\r\n",
        "\r\n",
        "# ws = Workspace.from_config()\r\n",
        "# env = Environment.get(ws, name='tensorflow-sklearn-training')\r\n"
      ],
      "outputs": [],
      "execution_count": 23,
      "metadata": {
        "collapsed": true,
        "jupyter": {
          "source_hidden": false,
          "outputs_hidden": false
        },
        "nteract": {
          "transient": {
            "deleting": false
          }
        },
        "gather": {
          "logged": 1629164364840
        }
      }
    },
    {
      "cell_type": "code",
      "source": [
        "########## To test for initial hiccups in the inference environment and model \r\n",
        "# dummy_inference_config = InferenceConfig(\r\n",
        "#     environment=inference_env, \r\n",
        "#     source_directory='.', \r\n",
        "#     entry_script='dummy_score.py')\r\n",
        "\r\n",
        "# dummy_deployment_config = LocalWebservice.deploy_configuration(port=6789)\r\n",
        "##########\r\n",
        "\r\n",
        "env.inferencing_stack_version='latest'\r\n",
        "\r\n",
        "inference_config = InferenceConfig(\r\n",
        "    environment=env, \r\n",
        "    source_directory='.', \r\n",
        "    entry_script='crypto_score.py')\r\n",
        "\r\n",
        "deployment_config = AciWebservice.deploy_configuration(\r\n",
        "    cpu_cores=2, \r\n",
        "    memory_gb=1, #Must be increments of 0.1 \r\n",
        "    auth_enabled=True\r\n",
        ")\r\n",
        "\r\n",
        "hyperdrive_model = ws.models['hyperdrive_Ethereum_forecaster']\r\n",
        "\r\n",
        "service = Model.deploy(\r\n",
        "    ws,\r\n",
        "    'ethereum-forecast-realtime',\r\n",
        "    [hyperdrive_model],\r\n",
        "    inference_config, # use dummy or actual\r\n",
        "    deployment_config, # use dummy or actual\r\n",
        "    overwrite=True\r\n",
        ")\r\n",
        "\r\n",
        "service.wait_for_deployment(show_output=True)"
      ],
      "outputs": [
        {
          "output_type": "stream",
          "name": "stdout",
          "text": [
            "Tips: You can try get_logs(): https://aka.ms/debugimage#dockerlog or local deployment: https://aka.ms/debugimage#debug-locally to debug if deployment takes longer than 10 minutes.\n",
            "Running\n",
            "2021-08-16 21:12:20+00:00 Creating Container Registry if not exists.\n",
            "2021-08-16 21:12:20+00:00 Registering the environment.\n",
            "2021-08-16 21:12:23+00:00 Use the existing image.\n",
            "2021-08-16 21:12:23+00:00 Generating deployment configuration.\n",
            "2021-08-16 21:12:24+00:00 Submitting deployment to compute.\n",
            "2021-08-16 21:12:28+00:00 Checking the status of deployment ethereum-forecast-realtime..\n",
            "2021-08-16 21:26:22+00:00 Checking the status of inference endpoint ethereum-forecast-realtime.\n",
            "Succeeded\n",
            "ACI service creation operation finished, operation \"Succeeded\"\n"
          ]
        }
      ],
      "execution_count": 8,
      "metadata": {
        "collapsed": true,
        "jupyter": {
          "source_hidden": false,
          "outputs_hidden": false
        },
        "nteract": {
          "transient": {
            "deleting": false
          }
        },
        "gather": {
          "logged": 1629149186143
        }
      }
    },
    {
      "cell_type": "markdown",
      "source": [
        "Once this endpoint is deployed lets test it by first loading the model test data from the best run and then running it through the model."
      ],
      "metadata": {
        "nteract": {
          "transient": {
            "deleting": false
          }
        }
      }
    },
    {
      "cell_type": "code",
      "source": [
        "# # If you want to start here and not deploy a webservice again run this code\r\n",
        "\r\n",
        "# from azureml.core.workspace import Workspace\r\n",
        "# from azureml.core import Webservice\r\n",
        "# ws = Workspace.from_config()\r\n",
        "# service = Webservice(ws, name='ethereum-forecast-realtime')"
      ],
      "outputs": [],
      "execution_count": null,
      "metadata": {
        "collapsed": true,
        "jupyter": {
          "source_hidden": false,
          "outputs_hidden": false
        },
        "nteract": {
          "transient": {
            "deleting": false
          }
        }
      }
    },
    {
      "cell_type": "code",
      "source": [
        "X_test = np.load('hyperdrive_model/outputs/X_test.npy')\r\n",
        "y_test = np.load('hyperdrive_model/outputs/y_test.npy')\r\n",
        "scaler = joblib.load('hyperdrive_model/outputs/scaler.joblib')\r\n",
        "\r\n",
        "# Transform test samples into endpoint consumable data\r\n",
        "test_samples = json.dumps({\"data\": X_test.tolist()})\r\n",
        "test_samples = bytes(test_samples, encoding='utf8')\r\n",
        "\r\n",
        "# Predict using the deployed model\r\n",
        "preds = service.run(input_data=test_samples)\r\n",
        "preds[:10]"
      ],
      "outputs": [
        {
          "output_type": "stream",
          "name": "stderr",
          "text": [
            "Trying to unpickle estimator MinMaxScaler from version 0.24.0 when using version 0.22.2.post1. This might lead to breaking code or invalid results. Use at your own risk.\n"
          ]
        },
        {
          "output_type": "execute_result",
          "execution_count": 24,
          "data": {
            "text/plain": "[[0.4353744089603424],\n [0.4432787001132965],\n [0.4497295320034027],\n [0.4451083242893219],\n [0.4237113296985626],\n [0.4228929579257965],\n [0.4225598871707916],\n [0.4133412837982178],\n [0.4239996373653412],\n [0.4351438581943512]]"
          },
          "metadata": {}
        }
      ],
      "execution_count": 24,
      "metadata": {
        "collapsed": true,
        "jupyter": {
          "source_hidden": false,
          "outputs_hidden": false
        },
        "nteract": {
          "transient": {
            "deleting": false
          }
        },
        "gather": {
          "logged": 1629164450877
        }
      }
    },
    {
      "cell_type": "markdown",
      "source": [
        "It worked! The service was able to run the test set inputs through and get predictions out. \r\n",
        "Now We need to inverse the scaling transformations done to the training data in order to show the dollar values of the Ethereum price predictions. This will be compared against the ETH closing prices for the 214 days in the test set.\r\n"
      ],
      "metadata": {
        "nteract": {
          "transient": {
            "deleting": false
          }
        }
      }
    },
    {
      "cell_type": "code",
      "source": [
        "# Change test set back into normal 2D array from a 3D array required by the LSTM layers\r\n",
        "test_X = X_test.reshape((X_test.shape[0], X_test.shape[2]))\r\n",
        "# Get data back into the shape the scaler expects (final column = predictions)\r\n",
        "test_whole = np.concatenate((test_X, preds), axis=1)\r\n",
        "# Inverse scaling back into normal values\r\n",
        "inv_test_whole = scaler.inverse_transform(test_whole)\r\n",
        "# Choose the final column (predictions)\r\n",
        "inv_pred = inv_test_whole[:,-1]\r\n",
        "print(inv_pred[:10])\r\n",
        "\r\n",
        "actual = y_test.reshape(-1, 1)\r\n",
        "# Get data back into the shape the scaler expects (final value = actual ETH prices)\r\n",
        "test_whole2 = np.concatenate((test_X, actual), axis=1)\r\n",
        "# Inverse scaling back into normal values\r\n",
        "inv_test_whole2 = scaler.inverse_transform(test_whole2)\r\n",
        "# Choose the final column (ETH prices)\r\n",
        "inv_actual = inv_test_whole2[:,-1]\r\n",
        "print(inv_actual[:10])"
      ],
      "outputs": [
        {
          "output_type": "stream",
          "name": "stdout",
          "text": [
            "[608.21106145 619.24533493 628.25060079 621.79946321 591.92957538\n",
            " 590.7871405  590.32217865 577.45314476 592.33204862 607.88921599]\n",
            "[596.59546 601.909   591.8434  554.82776 573.4791  559.6785  545.79736\n",
            " 568.5673  589.6632  586.01117]\n"
          ]
        }
      ],
      "execution_count": 25,
      "metadata": {
        "collapsed": true,
        "jupyter": {
          "source_hidden": false,
          "outputs_hidden": false
        },
        "nteract": {
          "transient": {
            "deleting": false
          }
        },
        "gather": {
          "logged": 1629164454936
        }
      }
    },
    {
      "cell_type": "markdown",
      "source": [
        "Now lets get the model performance with this data."
      ],
      "metadata": {
        "nteract": {
          "transient": {
            "deleting": false
          }
        }
      }
    },
    {
      "cell_type": "code",
      "source": [
        "# from sklearn.metrics import mean_absolute_percentage_error # This only works for 0.24.0 onward so the workaround is below\r\n",
        "from sklearn.metrics import mean_absolute_error\r\n",
        "def mean_absolute_percentage_error(y_true, y_pred,\r\n",
        "                                   sample_weight=None,\r\n",
        "                                   multioutput='uniform_average'):\r\n",
        "    epsilon = np.finfo(np.float64).eps\r\n",
        "    mape = np.abs(y_pred - y_true) / np.maximum(np.abs(y_true), epsilon)\r\n",
        "    output_errors = np.average(mape,\r\n",
        "                               weights=sample_weight, axis=0)\r\n",
        "    if isinstance(multioutput, str):\r\n",
        "        if multioutput == 'raw_values':\r\n",
        "            return output_errors\r\n",
        "        elif multioutput == 'uniform_average':\r\n",
        "            # pass None as weights to np.average: uniform mean\r\n",
        "            multioutput = None\r\n",
        "\r\n",
        "    return np.average(output_errors, weights=multioutput)\r\n",
        "    \r\n",
        "\r\n",
        "plt.figure(figsize=(6, 3))\r\n",
        "plt.title('ETH Model Predictions vs Actual Values', fontsize=14)\r\n",
        "plt.plot(inv_pred, 'b', label='Predictions', lw=4, alpha=0.5)\r\n",
        "plt.plot(inv_actual, 'r', label='Actual Price', lw=4, alpha=0.5)\r\n",
        "plt.legend(fontsize=12)\r\n",
        "plt.grid(True)\r\n",
        "plt.show()\r\n",
        "\r\n",
        "test_mae = mean_absolute_error(y_true=inv_actual, y_pred=inv_pred)\r\n",
        "print(test_mae)\r\n",
        "\r\n",
        "test_mape = mean_absolute_percentage_error(y_true=inv_actual, y_pred=inv_pred)\r\n",
        "print(test_mape)\r\n"
      ],
      "outputs": [
        {
          "output_type": "display_data",
          "data": {
            "text/plain": "<Figure size 432x216 with 1 Axes>",
            "image/png": "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\n"
          },
          "metadata": {
            "needs_background": "light"
          }
        },
        {
          "output_type": "stream",
          "name": "stdout",
          "text": [
            "480.6783541283769\n",
            "0.20339709795892408\n"
          ]
        }
      ],
      "execution_count": 27,
      "metadata": {
        "collapsed": true,
        "jupyter": {
          "source_hidden": false,
          "outputs_hidden": false
        },
        "nteract": {
          "transient": {
            "deleting": false
          }
        },
        "gather": {
          "logged": 1629164524180
        }
      }
    },
    {
      "cell_type": "markdown",
      "source": [
        "There you have it! Our endpoint received a data payload and responded with predictions."
      ],
      "metadata": {
        "nteract": {
          "transient": {
            "deleting": false
          }
        }
      }
    },
    {
      "cell_type": "markdown",
      "source": [
        "# Appendix"
      ],
      "metadata": {
        "nteract": {
          "transient": {
            "deleting": false
          }
        }
      }
    },
    {
      "cell_type": "code",
      "source": [
        "# print(tensorflow.__version__)\r\n",
        "# print(sklearn.__version__)\r\n",
        "\r\n",
        "# def mean_absolute_percentage_error(y_true, y_pred,\r\n",
        "#                                    sample_weight=None,\r\n",
        "#                                    multioutput='uniform_average'):\r\n",
        "#     epsilon = np.finfo(np.float64).eps\r\n",
        "#     mape = np.abs(y_pred - y_true) / np.maximum(np.abs(y_true), epsilon)\r\n",
        "#     output_errors = np.average(mape,\r\n",
        "#                                weights=sample_weight, axis=0)\r\n",
        "#     if isinstance(multioutput, str):\r\n",
        "#         if multioutput == 'raw_values':\r\n",
        "#             return output_errors\r\n",
        "#         elif multioutput == 'uniform_average':\r\n",
        "#             # pass None as weights to np.average: uniform mean\r\n",
        "#             multioutput = None\r\n",
        "\r\n",
        "#     return np.average(output_errors, weights=multioutput)\r\n",
        "\r\n",
        "# #---------------------------------------------------------------------\r\n",
        "\r\n",
        "\r\n",
        "# scaler = joblib.load('./hyperdrive_model/outputs/scaler.joblib')\r\n",
        "# X_test = np.load('./hyperdrive_model/outputs/X_test.npy')\r\n",
        "# y_test = np.load('./hyperdrive_model/outputs/y_test.npy')\r\n",
        "\r\n",
        "# # Unable to load model using various methods. Likely due to Tensorflow 2.1 problems\r\n",
        "# try:\r\n",
        "#     model = load_model('./hyperdrive_model/outputs/ETH_hyperdrive_model')\r\n",
        "# except:\r\n",
        "#     model = load_model('./hyperdrive_model/outputs/ETH_hyperdrive_model.h5')\r\n",
        "\r\n",
        "# from tensorflow.keras.models import model_from_json\r\n",
        "\r\n",
        "# # load json and create model\r\n",
        "# json_file = open('./hyperdrive_model/outputs/model.json', 'r')\r\n",
        "# loaded_model_json = json_file.read()\r\n",
        "# json_file.close()\r\n",
        "# loaded_model = model_from_json(loaded_model_json)\r\n",
        "# # load weights into new model\r\n",
        "# loaded_model.load_weights('./hyperdrive_model/outputs/model.h5')\r\n",
        "# print(\"Model loaded from disk.\")\r\n",
        "\r\n",
        "# # evaluate loaded model on test data\r\n",
        "# loaded_model.compile(optimizer='adam', loss='mse', metrics=[RootMeanSquaredError(), 'mae', 'mape'])\r\n",
        "\r\n",
        "# print(model.evaluate(X_test, y_test))\r\n",
        "\r\n",
        "# y_hat = loaded_model.predict(X_test)\r\n",
        "# X_test = X_test.reshape((X_test.shape[0], X_test.shape[2]))\r\n",
        "# # invert scaling for forecast\r\n",
        "# inv_yhat = np.concatenate((y_hat, X_test[:, 1:]), axis=1)\r\n",
        "# inv_yhat = scaler.inverse_transform(inv_yhat)\r\n",
        "# inv_yhat = inv_yhat[:,0]\r\n",
        "# # invert scaling for actual\r\n",
        "# y_test = y_test.reshape((len(y_test), 1))\r\n",
        "# inv_y = np.concatenate((y_test, X_test[:, 1:]), axis=1)\r\n",
        "# inv_y = scaler.inverse_transform(inv_y)\r\n",
        "# inv_y = inv_y[:,0]\r\n",
        "# print(mean_absolute_percentage_error(y_true=inv_y, y_pred=inv_yhat))\r\n",
        "\r\n",
        "# --------------------------------------------\r\n",
        "\r\n",
        "# import requests\r\n",
        "\r\n",
        "# # send a random row from the test set to score\r\n",
        "# random_index = np.random.randint(0, len(X_test)-1)\r\n",
        "# input_data = \"{\\\"data\\\": [\" + str(list(X_test[random_index])) + \"]}\"\r\n",
        "\r\n",
        "# key, _ = service.get_keys()\r\n",
        "# headers = {'Content-Type':'application/json', 'Authorization': 'Bearer ' + key}\r\n",
        "\r\n",
        "# resp = requests.post(service.scoring_uri, input_data, headers=headers)\r\n",
        "\r\n",
        "# print(\"POST to url\", service.scoring_uri)\r\n",
        "# #print(\"input data:\", input_data)\r\n",
        "\r\n",
        "# print(\"label:\", y_test[random_index])\r\n",
        "# print(\"prediction:\", resp.text)"
      ],
      "outputs": [],
      "execution_count": 12,
      "metadata": {
        "collapsed": true,
        "jupyter": {
          "source_hidden": false,
          "outputs_hidden": false
        },
        "nteract": {
          "transient": {
            "deleting": false
          }
        },
        "gather": {
          "logged": 1629149188770
        }
      }
    }
  ],
  "metadata": {
    "kernel_info": {
      "name": "python3"
    },
    "kernelspec": {
      "name": "python3",
      "language": "python",
      "display_name": "Python 3"
    },
    "language_info": {
      "name": "python",
      "version": "3.6.9",
      "mimetype": "text/x-python",
      "codemirror_mode": {
        "name": "ipython",
        "version": 3
      },
      "pygments_lexer": "ipython3",
      "nbconvert_exporter": "python",
      "file_extension": ".py"
    },
    "microsoft": {
      "host": {
        "AzureML": {
          "notebookHasBeenCompleted": true
        }
      }
    },
    "nteract": {
      "version": "nteract-front-end@1.0.0"
    }
  },
  "nbformat": 4,
  "nbformat_minor": 2
}
